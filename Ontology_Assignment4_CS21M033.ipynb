{
  "nbformat": 4,
  "nbformat_minor": 0,
  "metadata": {
    "colab": {
      "name": "Ontology_Assignment4_CS21M033.ipynb",
      "provenance": [],
      "collapsed_sections": []
    },
    "kernelspec": {
      "name": "python3",
      "display_name": "Python 3"
    },
    "language_info": {
      "name": "python"
    }
  },
  "cells": [
    {
      "cell_type": "code",
      "source": [
        "!pip install rdflib"
      ],
      "metadata": {
        "colab": {
          "base_uri": "https://localhost:8080/"
        },
        "id": "RHuvze5f41Jr",
        "outputId": "72d21efb-9ffb-46ec-8861-44d74e6e234a"
      },
      "execution_count": 320,
      "outputs": [
        {
          "output_type": "stream",
          "name": "stdout",
          "text": [
            "Requirement already satisfied: rdflib in /usr/local/lib/python3.7/dist-packages (6.1.1)\n",
            "Requirement already satisfied: setuptools in /usr/local/lib/python3.7/dist-packages (from rdflib) (57.4.0)\n",
            "Requirement already satisfied: importlib-metadata in /usr/local/lib/python3.7/dist-packages (from rdflib) (4.11.3)\n",
            "Requirement already satisfied: isodate in /usr/local/lib/python3.7/dist-packages (from rdflib) (0.6.1)\n",
            "Requirement already satisfied: pyparsing in /usr/local/lib/python3.7/dist-packages (from rdflib) (3.0.8)\n",
            "Requirement already satisfied: zipp>=0.5 in /usr/local/lib/python3.7/dist-packages (from importlib-metadata->rdflib) (3.8.0)\n",
            "Requirement already satisfied: typing-extensions>=3.6.4 in /usr/local/lib/python3.7/dist-packages (from importlib-metadata->rdflib) (4.2.0)\n",
            "Requirement already satisfied: six in /usr/local/lib/python3.7/dist-packages (from isodate->rdflib) (1.15.0)\n"
          ]
        }
      ]
    },
    {
      "cell_type": "code",
      "source": [
        "import os\n",
        "from rdflib import Graph,Literal, RDF, URIRef\n",
        "from rdflib.namespace import FOAF, XSD\n",
        "from rdflib.namespace import  RDF, RDFS\n",
        "import pandas as pd\n",
        "import numpy as np\n",
        "import xml.etree.cElementTree as et"
      ],
      "metadata": {
        "id": "u_dtwVJi47xw"
      },
      "execution_count": 321,
      "outputs": []
    },
    {
      "cell_type": "markdown",
      "source": [
        "### Fetch data from FoodDelivery.xml"
      ],
      "metadata": {
        "id": "OU3FpPje3rbD"
      }
    },
    {
      "cell_type": "code",
      "execution_count": 322,
      "metadata": {
        "colab": {
          "base_uri": "https://localhost:8080/"
        },
        "id": "_-37C9fX3tsb",
        "outputId": "d5cf7f1c-baa7-4bed-b99b-d4dd76c74fc0"
      },
      "outputs": [
        {
          "output_type": "stream",
          "name": "stdout",
          "text": [
            "[['6548', 'Mayank Jain', '9256878932', 'Bangalore', 'Karnataka', '560212'], ['6523', 'Nisha Singh', '8965475215', 'Indore', 'Madhya Pradesh', '560212'], ['8965', 'Ansh Prajapati', '8276878978', 'Ajmer', 'Rajasthan', '305801'], ['6128', 'Lokesh choudhary', '8356878652', 'Bangalore', 'Karnataka', '560212'], ['2548', 'Payal Malik', '9256878032', 'Bangalore', 'Karnataka', '563212']]\n",
            "[['789', ['Virgin Mojito', '120'], ['ButterMilk', '70'], ['Lime Juice', '110'], ['Beer', '150']], ['987', ['Butter Milk', '110'], ['Orange Juice', '110'], ['Beer', '210'], ['Cold Coffee', '150']], ['987', ['Butter Milk', '110'], ['Orange Juice', '110'], ['Beer', '210'], ['Cold Coffee', '150']], ['987', ['Butter Milk', '110'], ['Orange Juice', '110'], ['Beer', '210'], ['Cold Coffee', '150']], ['987', ['Butter Milk', '110'], ['Orange Juice', '110'], ['Beer', '210'], ['Cold Coffee', '150']], ['987', ['Butter Milk', '110'], ['Orange Juice', '110'], ['Beer', '210'], ['Cold Coffee', '150']], ['987', ['Butter Milk', '110'], ['Orange Juice', '110'], ['Beer', '210'], ['Cold Coffee', '150']]]\n",
            "[['mayank@ybl', '410', '56895', '789', '6548'], ['mayank@ybl', '650', '99895', '789', '6548'], ['823654789665', '470', '65499', '987', '8965'], ['528954789665', '490', '4563', '987', '8965']]\n",
            "[['56895', '6548', '127', 'Chicken Rolls,Lime Juice'], ['99895', '6548', '324', 'Shahi Panner,Dal Fry,Non Veg Biryani'], ['65499', '8965', '228', 'Panner Fry,Dal Fry'], ['4563', '8965', '324', 'Panner Fry,Dal Makhani,Plain Roti']]\n"
          ]
        }
      ],
      "source": [
        "# Passing the path of the xml document to enable the parsing process\n",
        "tree=et.parse('FoodDelivery.xml')\n",
        "root=tree.getroot()\n",
        "Customer_List=[]\n",
        "all_triplets=[]\n",
        "triplets=[]\n",
        "Orders=[]\n",
        "Payment=[]\n",
        "#fetch all Customer \n",
        "for child in root.iter('Customer'):\n",
        "  Customer=[]\n",
        "  Customer.append(child.attrib['ID'])\n",
        "  attribute=['Cname','Cphone','City','State','Zip']\n",
        "  for ele in attribute:\n",
        "    for gchild in child.iter(ele):\n",
        "      Customer.append(gchild.text)\n",
        "  Customer_List.append(Customer)\n",
        "\n",
        "#fetch all Rmenu item\n",
        "for item in child.findall('Rmenu/Drinks/item'):\n",
        "    temp=[]\n",
        "    name=item.find('name')\n",
        "    price=item.find('price')\n",
        "    temp.append(name.text)\n",
        "    temp.append(price.text)\n",
        "    RDrinks.append(temp)\n",
        "Drinks.append(RDrinks)\n",
        "#fetch all Order Detail\n",
        "for child in root.iter('Order'):\n",
        "  ord=[]\n",
        "  attribute=['Orderid','Customerid','Restaurantid','DeliveryAgentid','Ordercontent']\n",
        "  for i in attribute:\n",
        "    for fd in child.iter(i):\n",
        "      ord.append(fd.text)\n",
        "  Orders.append(ord)\n",
        "#fetch all Payment Detail\n",
        "for child in root.iter('Payment'):\n",
        "  pay=[]\n",
        "  if (child[0].tag=='UPI'):\n",
        "    for i in child.iter('UPI'):\n",
        "      pay.append(i.text)\n",
        "  if(child[0].tag=='DebitCard'  or child[0].tag=='CreditCard'):\n",
        "    card=child.find(child[0].tag)\n",
        "    pay.append(card.text)\n",
        "  attribute=['amount','Orderid','Restaurantid','Customerid']\n",
        "  for i in attribute:\n",
        "    for fd in child.iter(i):\n",
        "      pay.append(fd.text)\n",
        "  Payment.append(pay)\n",
        "#Print\n",
        "print(Customer_List)\n",
        "print(Drinks)\n",
        "print(Payment)\n",
        "print(Orders)"
      ]
    },
    {
      "cell_type": "code",
      "source": [
        "MG=Graph()\n",
        "filename =\"foodDelivery.owl\"\n",
        "MG.load(filename, format='xml')"
      ],
      "metadata": {
        "colab": {
          "base_uri": "https://localhost:8080/"
        },
        "id": "51-vIncR4UgI",
        "outputId": "06a8913c-ce41-4742-fce7-b5b39ef945e7"
      },
      "execution_count": 333,
      "outputs": [
        {
          "output_type": "execute_result",
          "data": {
            "text/plain": [
              "<Graph identifier=Nb4de710c46894396a8feb16a43c4a312 (<class 'rdflib.graph.Graph'>)>"
            ]
          },
          "metadata": {},
          "execution_count": 333
        }
      ]
    },
    {
      "cell_type": "code",
      "source": [
        "myNamespace=\"urn:webprotege:ontology:0adba852-419a-4efa-a399-6c734704e7b4\"\n",
        "namedIndividual = URIRef('http://www.w3.org/2002/07/owl#NamedIndividual')\n",
        "rdftype = URIRef(\"http://www.w3.org/1999/02/22-rdf-syntax-ns#type\")"
      ],
      "metadata": {
        "id": "IQfa8wI-CQ5w"
      },
      "execution_count": 324,
      "outputs": []
    },
    {
      "cell_type": "code",
      "source": [
        "def isAlreadyDefined(subs):\n",
        "    for s in MG.subjects():\n",
        "        if(subs in str(s)):\n",
        "            return True\n",
        "    return False"
      ],
      "metadata": {
        "id": "hCSBrY9wO9m4"
      },
      "execution_count": 325,
      "outputs": []
    },
    {
      "cell_type": "markdown",
      "source": [
        "###Add All Customer "
      ],
      "metadata": {
        "id": "rsidLHRh4ZQT"
      }
    },
    {
      "cell_type": "code",
      "source": [
        "for _cust in Customer_List[0]: \n",
        "        individualName=str(myNamespace)+\"#\"+str(_cust).replace(' ','_')\n",
        "        arc_class=str(myNamespace)+\"#\"+\"Customer\"\n",
        "        arc_individual = URIRef(individualName)         \n",
        "        \n",
        "        if(isAlreadyDefined(individualName)==False): \n",
        "            all_triplets.append((arc_individual,RDF.type, URIRef(arc_class)))\n",
        "            all_triplets.append((arc_individual,RDF.type, URIRef(namedIndividual)))"
      ],
      "metadata": {
        "id": "bxk8PMgVPlSY"
      },
      "execution_count": 326,
      "outputs": []
    },
    {
      "cell_type": "markdown",
      "source": [
        "###Add All Order"
      ],
      "metadata": {
        "id": "uEfqRBuZ4e3M"
      }
    },
    {
      "cell_type": "code",
      "source": [
        "for _cust in Orders[0]: \n",
        "        individualName=str(myNamespace)+\"#\"+str(_cust).replace(' ','_')\n",
        "        arc_class=str(myNamespace)+\"#\"+\"order\"\n",
        "        arc_individual = URIRef(individualName)         \n",
        "        \n",
        "        if(isAlreadyDefined(individualName)==False): \n",
        "            all_triplets.append((arc_individual,RDF.type, URIRef(arc_class)))\n",
        "            all_triplets.append((arc_individual,RDF.type, URIRef(namedIndividual)))"
      ],
      "metadata": {
        "id": "5gi9fmjbtZFZ"
      },
      "execution_count": 327,
      "outputs": []
    },
    {
      "cell_type": "markdown",
      "source": [
        "###Add All Payment "
      ],
      "metadata": {
        "id": "-z-aUjhX4i6J"
      }
    },
    {
      "cell_type": "code",
      "source": [
        "for _cust in Payment[0]: \n",
        "        individualName=str(myNamespace)+\"#\"+str(_cust).replace(' ','_')\n",
        "        arc_class=str(myNamespace)+\"#\"+\"Payment\"\n",
        "        arc_individual = URIRef(individualName)         \n",
        "        \n",
        "        if(isAlreadyDefined(individualName)==False): \n",
        "            all_triplets.append((arc_individual,RDF.type, URIRef(arc_class)))\n",
        "            all_triplets.append((arc_individual,RDF.type, URIRef(namedIndividual)))"
      ],
      "metadata": {
        "id": "oTZcaz_Xv9Eq"
      },
      "execution_count": 328,
      "outputs": []
    },
    {
      "cell_type": "markdown",
      "source": [
        "###Add All Drinks "
      ],
      "metadata": {
        "id": "C2T9sFFA4meK"
      }
    },
    {
      "cell_type": "code",
      "source": [
        "for _cust in Drinks[0]: \n",
        "        individualName=str(myNamespace)+\"#\"+str(_cust).replace(' ','_')\n",
        "        arc_class=str(myNamespace)+\"#\"+\"Rmenu/Drinks/item\"\n",
        "        arc_individual = URIRef(individualName)         \n",
        "        \n",
        "        if(isAlreadyDefined(individualName)==False): \n",
        "            all_triplets.append((arc_individual,RDF.type, URIRef(arc_class)))\n",
        "            all_triplets.append((arc_individual,RDF.type, URIRef(namedIndividual)))"
      ],
      "metadata": {
        "id": "2WOIa3W94nVk"
      },
      "execution_count": 329,
      "outputs": []
    },
    {
      "cell_type": "markdown",
      "source": [
        "###Print All triplets"
      ],
      "metadata": {
        "id": "brMsNdAN4n3L"
      }
    },
    {
      "cell_type": "code",
      "source": [
        "for i in all_triplets:\n",
        "  print(i)"
      ],
      "metadata": {
        "colab": {
          "base_uri": "https://localhost:8080/"
        },
        "id": "f2_f4AE2ShmJ",
        "outputId": "e24f5bb6-3830-40a7-b492-189babe06599"
      },
      "execution_count": 330,
      "outputs": [
        {
          "output_type": "stream",
          "name": "stdout",
          "text": [
            "(rdflib.term.URIRef('urn:webprotege:ontology:0adba852-419a-4efa-a399-6c734704e7b4#6548'), rdflib.term.URIRef('http://www.w3.org/1999/02/22-rdf-syntax-ns#type'), rdflib.term.URIRef('urn:webprotege:ontology:0adba852-419a-4efa-a399-6c734704e7b4#Customer'))\n",
            "(rdflib.term.URIRef('urn:webprotege:ontology:0adba852-419a-4efa-a399-6c734704e7b4#6548'), rdflib.term.URIRef('http://www.w3.org/1999/02/22-rdf-syntax-ns#type'), rdflib.term.URIRef('http://www.w3.org/2002/07/owl#NamedIndividual'))\n",
            "(rdflib.term.URIRef('urn:webprotege:ontology:0adba852-419a-4efa-a399-6c734704e7b4#Mayank_Jain'), rdflib.term.URIRef('http://www.w3.org/1999/02/22-rdf-syntax-ns#type'), rdflib.term.URIRef('urn:webprotege:ontology:0adba852-419a-4efa-a399-6c734704e7b4#Customer'))\n",
            "(rdflib.term.URIRef('urn:webprotege:ontology:0adba852-419a-4efa-a399-6c734704e7b4#Mayank_Jain'), rdflib.term.URIRef('http://www.w3.org/1999/02/22-rdf-syntax-ns#type'), rdflib.term.URIRef('http://www.w3.org/2002/07/owl#NamedIndividual'))\n",
            "(rdflib.term.URIRef('urn:webprotege:ontology:0adba852-419a-4efa-a399-6c734704e7b4#9256878932'), rdflib.term.URIRef('http://www.w3.org/1999/02/22-rdf-syntax-ns#type'), rdflib.term.URIRef('urn:webprotege:ontology:0adba852-419a-4efa-a399-6c734704e7b4#Customer'))\n",
            "(rdflib.term.URIRef('urn:webprotege:ontology:0adba852-419a-4efa-a399-6c734704e7b4#9256878932'), rdflib.term.URIRef('http://www.w3.org/1999/02/22-rdf-syntax-ns#type'), rdflib.term.URIRef('http://www.w3.org/2002/07/owl#NamedIndividual'))\n",
            "(rdflib.term.URIRef('urn:webprotege:ontology:0adba852-419a-4efa-a399-6c734704e7b4#Bangalore'), rdflib.term.URIRef('http://www.w3.org/1999/02/22-rdf-syntax-ns#type'), rdflib.term.URIRef('urn:webprotege:ontology:0adba852-419a-4efa-a399-6c734704e7b4#Customer'))\n",
            "(rdflib.term.URIRef('urn:webprotege:ontology:0adba852-419a-4efa-a399-6c734704e7b4#Bangalore'), rdflib.term.URIRef('http://www.w3.org/1999/02/22-rdf-syntax-ns#type'), rdflib.term.URIRef('http://www.w3.org/2002/07/owl#NamedIndividual'))\n",
            "(rdflib.term.URIRef('urn:webprotege:ontology:0adba852-419a-4efa-a399-6c734704e7b4#Karnataka'), rdflib.term.URIRef('http://www.w3.org/1999/02/22-rdf-syntax-ns#type'), rdflib.term.URIRef('urn:webprotege:ontology:0adba852-419a-4efa-a399-6c734704e7b4#Customer'))\n",
            "(rdflib.term.URIRef('urn:webprotege:ontology:0adba852-419a-4efa-a399-6c734704e7b4#Karnataka'), rdflib.term.URIRef('http://www.w3.org/1999/02/22-rdf-syntax-ns#type'), rdflib.term.URIRef('http://www.w3.org/2002/07/owl#NamedIndividual'))\n",
            "(rdflib.term.URIRef('urn:webprotege:ontology:0adba852-419a-4efa-a399-6c734704e7b4#560212'), rdflib.term.URIRef('http://www.w3.org/1999/02/22-rdf-syntax-ns#type'), rdflib.term.URIRef('urn:webprotege:ontology:0adba852-419a-4efa-a399-6c734704e7b4#Customer'))\n",
            "(rdflib.term.URIRef('urn:webprotege:ontology:0adba852-419a-4efa-a399-6c734704e7b4#560212'), rdflib.term.URIRef('http://www.w3.org/1999/02/22-rdf-syntax-ns#type'), rdflib.term.URIRef('http://www.w3.org/2002/07/owl#NamedIndividual'))\n",
            "(rdflib.term.URIRef('urn:webprotege:ontology:0adba852-419a-4efa-a399-6c734704e7b4#56895'), rdflib.term.URIRef('http://www.w3.org/1999/02/22-rdf-syntax-ns#type'), rdflib.term.URIRef('urn:webprotege:ontology:0adba852-419a-4efa-a399-6c734704e7b4#order'))\n",
            "(rdflib.term.URIRef('urn:webprotege:ontology:0adba852-419a-4efa-a399-6c734704e7b4#56895'), rdflib.term.URIRef('http://www.w3.org/1999/02/22-rdf-syntax-ns#type'), rdflib.term.URIRef('http://www.w3.org/2002/07/owl#NamedIndividual'))\n",
            "(rdflib.term.URIRef('urn:webprotege:ontology:0adba852-419a-4efa-a399-6c734704e7b4#6548'), rdflib.term.URIRef('http://www.w3.org/1999/02/22-rdf-syntax-ns#type'), rdflib.term.URIRef('urn:webprotege:ontology:0adba852-419a-4efa-a399-6c734704e7b4#order'))\n",
            "(rdflib.term.URIRef('urn:webprotege:ontology:0adba852-419a-4efa-a399-6c734704e7b4#6548'), rdflib.term.URIRef('http://www.w3.org/1999/02/22-rdf-syntax-ns#type'), rdflib.term.URIRef('http://www.w3.org/2002/07/owl#NamedIndividual'))\n",
            "(rdflib.term.URIRef('urn:webprotege:ontology:0adba852-419a-4efa-a399-6c734704e7b4#127'), rdflib.term.URIRef('http://www.w3.org/1999/02/22-rdf-syntax-ns#type'), rdflib.term.URIRef('urn:webprotege:ontology:0adba852-419a-4efa-a399-6c734704e7b4#order'))\n",
            "(rdflib.term.URIRef('urn:webprotege:ontology:0adba852-419a-4efa-a399-6c734704e7b4#127'), rdflib.term.URIRef('http://www.w3.org/1999/02/22-rdf-syntax-ns#type'), rdflib.term.URIRef('http://www.w3.org/2002/07/owl#NamedIndividual'))\n",
            "(rdflib.term.URIRef('urn:webprotege:ontology:0adba852-419a-4efa-a399-6c734704e7b4#Chicken_Rolls,Lime_Juice'), rdflib.term.URIRef('http://www.w3.org/1999/02/22-rdf-syntax-ns#type'), rdflib.term.URIRef('urn:webprotege:ontology:0adba852-419a-4efa-a399-6c734704e7b4#order'))\n",
            "(rdflib.term.URIRef('urn:webprotege:ontology:0adba852-419a-4efa-a399-6c734704e7b4#Chicken_Rolls,Lime_Juice'), rdflib.term.URIRef('http://www.w3.org/1999/02/22-rdf-syntax-ns#type'), rdflib.term.URIRef('http://www.w3.org/2002/07/owl#NamedIndividual'))\n",
            "(rdflib.term.URIRef('urn:webprotege:ontology:0adba852-419a-4efa-a399-6c734704e7b4#mayank@ybl'), rdflib.term.URIRef('http://www.w3.org/1999/02/22-rdf-syntax-ns#type'), rdflib.term.URIRef('urn:webprotege:ontology:0adba852-419a-4efa-a399-6c734704e7b4#Payment'))\n",
            "(rdflib.term.URIRef('urn:webprotege:ontology:0adba852-419a-4efa-a399-6c734704e7b4#mayank@ybl'), rdflib.term.URIRef('http://www.w3.org/1999/02/22-rdf-syntax-ns#type'), rdflib.term.URIRef('http://www.w3.org/2002/07/owl#NamedIndividual'))\n",
            "(rdflib.term.URIRef('urn:webprotege:ontology:0adba852-419a-4efa-a399-6c734704e7b4#410'), rdflib.term.URIRef('http://www.w3.org/1999/02/22-rdf-syntax-ns#type'), rdflib.term.URIRef('urn:webprotege:ontology:0adba852-419a-4efa-a399-6c734704e7b4#Payment'))\n",
            "(rdflib.term.URIRef('urn:webprotege:ontology:0adba852-419a-4efa-a399-6c734704e7b4#410'), rdflib.term.URIRef('http://www.w3.org/1999/02/22-rdf-syntax-ns#type'), rdflib.term.URIRef('http://www.w3.org/2002/07/owl#NamedIndividual'))\n",
            "(rdflib.term.URIRef('urn:webprotege:ontology:0adba852-419a-4efa-a399-6c734704e7b4#56895'), rdflib.term.URIRef('http://www.w3.org/1999/02/22-rdf-syntax-ns#type'), rdflib.term.URIRef('urn:webprotege:ontology:0adba852-419a-4efa-a399-6c734704e7b4#Payment'))\n",
            "(rdflib.term.URIRef('urn:webprotege:ontology:0adba852-419a-4efa-a399-6c734704e7b4#56895'), rdflib.term.URIRef('http://www.w3.org/1999/02/22-rdf-syntax-ns#type'), rdflib.term.URIRef('http://www.w3.org/2002/07/owl#NamedIndividual'))\n",
            "(rdflib.term.URIRef('urn:webprotege:ontology:0adba852-419a-4efa-a399-6c734704e7b4#789'), rdflib.term.URIRef('http://www.w3.org/1999/02/22-rdf-syntax-ns#type'), rdflib.term.URIRef('urn:webprotege:ontology:0adba852-419a-4efa-a399-6c734704e7b4#Payment'))\n",
            "(rdflib.term.URIRef('urn:webprotege:ontology:0adba852-419a-4efa-a399-6c734704e7b4#789'), rdflib.term.URIRef('http://www.w3.org/1999/02/22-rdf-syntax-ns#type'), rdflib.term.URIRef('http://www.w3.org/2002/07/owl#NamedIndividual'))\n",
            "(rdflib.term.URIRef('urn:webprotege:ontology:0adba852-419a-4efa-a399-6c734704e7b4#6548'), rdflib.term.URIRef('http://www.w3.org/1999/02/22-rdf-syntax-ns#type'), rdflib.term.URIRef('urn:webprotege:ontology:0adba852-419a-4efa-a399-6c734704e7b4#Payment'))\n",
            "(rdflib.term.URIRef('urn:webprotege:ontology:0adba852-419a-4efa-a399-6c734704e7b4#6548'), rdflib.term.URIRef('http://www.w3.org/1999/02/22-rdf-syntax-ns#type'), rdflib.term.URIRef('http://www.w3.org/2002/07/owl#NamedIndividual'))\n",
            "(rdflib.term.URIRef('urn:webprotege:ontology:0adba852-419a-4efa-a399-6c734704e7b4#789'), rdflib.term.URIRef('http://www.w3.org/1999/02/22-rdf-syntax-ns#type'), rdflib.term.URIRef('urn:webprotege:ontology:0adba852-419a-4efa-a399-6c734704e7b4#Rmenu/Drinks/item'))\n",
            "(rdflib.term.URIRef('urn:webprotege:ontology:0adba852-419a-4efa-a399-6c734704e7b4#789'), rdflib.term.URIRef('http://www.w3.org/1999/02/22-rdf-syntax-ns#type'), rdflib.term.URIRef('http://www.w3.org/2002/07/owl#NamedIndividual'))\n",
            "(rdflib.term.URIRef(\"urn:webprotege:ontology:0adba852-419a-4efa-a399-6c734704e7b4#['Virgin_Mojito',_'120']\"), rdflib.term.URIRef('http://www.w3.org/1999/02/22-rdf-syntax-ns#type'), rdflib.term.URIRef('urn:webprotege:ontology:0adba852-419a-4efa-a399-6c734704e7b4#Rmenu/Drinks/item'))\n",
            "(rdflib.term.URIRef(\"urn:webprotege:ontology:0adba852-419a-4efa-a399-6c734704e7b4#['Virgin_Mojito',_'120']\"), rdflib.term.URIRef('http://www.w3.org/1999/02/22-rdf-syntax-ns#type'), rdflib.term.URIRef('http://www.w3.org/2002/07/owl#NamedIndividual'))\n",
            "(rdflib.term.URIRef(\"urn:webprotege:ontology:0adba852-419a-4efa-a399-6c734704e7b4#['ButterMilk',_'70']\"), rdflib.term.URIRef('http://www.w3.org/1999/02/22-rdf-syntax-ns#type'), rdflib.term.URIRef('urn:webprotege:ontology:0adba852-419a-4efa-a399-6c734704e7b4#Rmenu/Drinks/item'))\n",
            "(rdflib.term.URIRef(\"urn:webprotege:ontology:0adba852-419a-4efa-a399-6c734704e7b4#['ButterMilk',_'70']\"), rdflib.term.URIRef('http://www.w3.org/1999/02/22-rdf-syntax-ns#type'), rdflib.term.URIRef('http://www.w3.org/2002/07/owl#NamedIndividual'))\n",
            "(rdflib.term.URIRef(\"urn:webprotege:ontology:0adba852-419a-4efa-a399-6c734704e7b4#['Lime_Juice',_'110']\"), rdflib.term.URIRef('http://www.w3.org/1999/02/22-rdf-syntax-ns#type'), rdflib.term.URIRef('urn:webprotege:ontology:0adba852-419a-4efa-a399-6c734704e7b4#Rmenu/Drinks/item'))\n",
            "(rdflib.term.URIRef(\"urn:webprotege:ontology:0adba852-419a-4efa-a399-6c734704e7b4#['Lime_Juice',_'110']\"), rdflib.term.URIRef('http://www.w3.org/1999/02/22-rdf-syntax-ns#type'), rdflib.term.URIRef('http://www.w3.org/2002/07/owl#NamedIndividual'))\n",
            "(rdflib.term.URIRef(\"urn:webprotege:ontology:0adba852-419a-4efa-a399-6c734704e7b4#['Beer',_'150']\"), rdflib.term.URIRef('http://www.w3.org/1999/02/22-rdf-syntax-ns#type'), rdflib.term.URIRef('urn:webprotege:ontology:0adba852-419a-4efa-a399-6c734704e7b4#Rmenu/Drinks/item'))\n",
            "(rdflib.term.URIRef(\"urn:webprotege:ontology:0adba852-419a-4efa-a399-6c734704e7b4#['Beer',_'150']\"), rdflib.term.URIRef('http://www.w3.org/1999/02/22-rdf-syntax-ns#type'), rdflib.term.URIRef('http://www.w3.org/2002/07/owl#NamedIndividual'))\n"
          ]
        }
      ]
    },
    {
      "cell_type": "markdown",
      "source": [
        "###Add all the triplets and print"
      ],
      "metadata": {
        "id": "FGrc1lLb5RP7"
      }
    },
    {
      "cell_type": "code",
      "source": [
        "for i in all_triplets:\n",
        "  print(i)\n",
        "  MG.add(i)\n",
        "MG.serialize(destination=\"Assignment4_Final.owl\")"
      ],
      "metadata": {
        "colab": {
          "base_uri": "https://localhost:8080/"
        },
        "id": "51Jn6TDtTKzo",
        "outputId": "6333b545-894a-4522-c2c2-c3bb956facee"
      },
      "execution_count": 331,
      "outputs": [
        {
          "output_type": "stream",
          "name": "stdout",
          "text": [
            "(rdflib.term.URIRef('urn:webprotege:ontology:0adba852-419a-4efa-a399-6c734704e7b4#6548'), rdflib.term.URIRef('http://www.w3.org/1999/02/22-rdf-syntax-ns#type'), rdflib.term.URIRef('urn:webprotege:ontology:0adba852-419a-4efa-a399-6c734704e7b4#Customer'))\n",
            "(rdflib.term.URIRef('urn:webprotege:ontology:0adba852-419a-4efa-a399-6c734704e7b4#6548'), rdflib.term.URIRef('http://www.w3.org/1999/02/22-rdf-syntax-ns#type'), rdflib.term.URIRef('http://www.w3.org/2002/07/owl#NamedIndividual'))\n",
            "(rdflib.term.URIRef('urn:webprotege:ontology:0adba852-419a-4efa-a399-6c734704e7b4#Mayank_Jain'), rdflib.term.URIRef('http://www.w3.org/1999/02/22-rdf-syntax-ns#type'), rdflib.term.URIRef('urn:webprotege:ontology:0adba852-419a-4efa-a399-6c734704e7b4#Customer'))\n",
            "(rdflib.term.URIRef('urn:webprotege:ontology:0adba852-419a-4efa-a399-6c734704e7b4#Mayank_Jain'), rdflib.term.URIRef('http://www.w3.org/1999/02/22-rdf-syntax-ns#type'), rdflib.term.URIRef('http://www.w3.org/2002/07/owl#NamedIndividual'))\n",
            "(rdflib.term.URIRef('urn:webprotege:ontology:0adba852-419a-4efa-a399-6c734704e7b4#9256878932'), rdflib.term.URIRef('http://www.w3.org/1999/02/22-rdf-syntax-ns#type'), rdflib.term.URIRef('urn:webprotege:ontology:0adba852-419a-4efa-a399-6c734704e7b4#Customer'))\n",
            "(rdflib.term.URIRef('urn:webprotege:ontology:0adba852-419a-4efa-a399-6c734704e7b4#9256878932'), rdflib.term.URIRef('http://www.w3.org/1999/02/22-rdf-syntax-ns#type'), rdflib.term.URIRef('http://www.w3.org/2002/07/owl#NamedIndividual'))\n",
            "(rdflib.term.URIRef('urn:webprotege:ontology:0adba852-419a-4efa-a399-6c734704e7b4#Bangalore'), rdflib.term.URIRef('http://www.w3.org/1999/02/22-rdf-syntax-ns#type'), rdflib.term.URIRef('urn:webprotege:ontology:0adba852-419a-4efa-a399-6c734704e7b4#Customer'))\n",
            "(rdflib.term.URIRef('urn:webprotege:ontology:0adba852-419a-4efa-a399-6c734704e7b4#Bangalore'), rdflib.term.URIRef('http://www.w3.org/1999/02/22-rdf-syntax-ns#type'), rdflib.term.URIRef('http://www.w3.org/2002/07/owl#NamedIndividual'))\n",
            "(rdflib.term.URIRef('urn:webprotege:ontology:0adba852-419a-4efa-a399-6c734704e7b4#Karnataka'), rdflib.term.URIRef('http://www.w3.org/1999/02/22-rdf-syntax-ns#type'), rdflib.term.URIRef('urn:webprotege:ontology:0adba852-419a-4efa-a399-6c734704e7b4#Customer'))\n",
            "(rdflib.term.URIRef('urn:webprotege:ontology:0adba852-419a-4efa-a399-6c734704e7b4#Karnataka'), rdflib.term.URIRef('http://www.w3.org/1999/02/22-rdf-syntax-ns#type'), rdflib.term.URIRef('http://www.w3.org/2002/07/owl#NamedIndividual'))\n",
            "(rdflib.term.URIRef('urn:webprotege:ontology:0adba852-419a-4efa-a399-6c734704e7b4#560212'), rdflib.term.URIRef('http://www.w3.org/1999/02/22-rdf-syntax-ns#type'), rdflib.term.URIRef('urn:webprotege:ontology:0adba852-419a-4efa-a399-6c734704e7b4#Customer'))\n",
            "(rdflib.term.URIRef('urn:webprotege:ontology:0adba852-419a-4efa-a399-6c734704e7b4#560212'), rdflib.term.URIRef('http://www.w3.org/1999/02/22-rdf-syntax-ns#type'), rdflib.term.URIRef('http://www.w3.org/2002/07/owl#NamedIndividual'))\n",
            "(rdflib.term.URIRef('urn:webprotege:ontology:0adba852-419a-4efa-a399-6c734704e7b4#56895'), rdflib.term.URIRef('http://www.w3.org/1999/02/22-rdf-syntax-ns#type'), rdflib.term.URIRef('urn:webprotege:ontology:0adba852-419a-4efa-a399-6c734704e7b4#order'))\n",
            "(rdflib.term.URIRef('urn:webprotege:ontology:0adba852-419a-4efa-a399-6c734704e7b4#56895'), rdflib.term.URIRef('http://www.w3.org/1999/02/22-rdf-syntax-ns#type'), rdflib.term.URIRef('http://www.w3.org/2002/07/owl#NamedIndividual'))\n",
            "(rdflib.term.URIRef('urn:webprotege:ontology:0adba852-419a-4efa-a399-6c734704e7b4#6548'), rdflib.term.URIRef('http://www.w3.org/1999/02/22-rdf-syntax-ns#type'), rdflib.term.URIRef('urn:webprotege:ontology:0adba852-419a-4efa-a399-6c734704e7b4#order'))\n",
            "(rdflib.term.URIRef('urn:webprotege:ontology:0adba852-419a-4efa-a399-6c734704e7b4#6548'), rdflib.term.URIRef('http://www.w3.org/1999/02/22-rdf-syntax-ns#type'), rdflib.term.URIRef('http://www.w3.org/2002/07/owl#NamedIndividual'))\n",
            "(rdflib.term.URIRef('urn:webprotege:ontology:0adba852-419a-4efa-a399-6c734704e7b4#127'), rdflib.term.URIRef('http://www.w3.org/1999/02/22-rdf-syntax-ns#type'), rdflib.term.URIRef('urn:webprotege:ontology:0adba852-419a-4efa-a399-6c734704e7b4#order'))\n",
            "(rdflib.term.URIRef('urn:webprotege:ontology:0adba852-419a-4efa-a399-6c734704e7b4#127'), rdflib.term.URIRef('http://www.w3.org/1999/02/22-rdf-syntax-ns#type'), rdflib.term.URIRef('http://www.w3.org/2002/07/owl#NamedIndividual'))\n",
            "(rdflib.term.URIRef('urn:webprotege:ontology:0adba852-419a-4efa-a399-6c734704e7b4#Chicken_Rolls,Lime_Juice'), rdflib.term.URIRef('http://www.w3.org/1999/02/22-rdf-syntax-ns#type'), rdflib.term.URIRef('urn:webprotege:ontology:0adba852-419a-4efa-a399-6c734704e7b4#order'))\n",
            "(rdflib.term.URIRef('urn:webprotege:ontology:0adba852-419a-4efa-a399-6c734704e7b4#Chicken_Rolls,Lime_Juice'), rdflib.term.URIRef('http://www.w3.org/1999/02/22-rdf-syntax-ns#type'), rdflib.term.URIRef('http://www.w3.org/2002/07/owl#NamedIndividual'))\n",
            "(rdflib.term.URIRef('urn:webprotege:ontology:0adba852-419a-4efa-a399-6c734704e7b4#mayank@ybl'), rdflib.term.URIRef('http://www.w3.org/1999/02/22-rdf-syntax-ns#type'), rdflib.term.URIRef('urn:webprotege:ontology:0adba852-419a-4efa-a399-6c734704e7b4#Payment'))\n",
            "(rdflib.term.URIRef('urn:webprotege:ontology:0adba852-419a-4efa-a399-6c734704e7b4#mayank@ybl'), rdflib.term.URIRef('http://www.w3.org/1999/02/22-rdf-syntax-ns#type'), rdflib.term.URIRef('http://www.w3.org/2002/07/owl#NamedIndividual'))\n",
            "(rdflib.term.URIRef('urn:webprotege:ontology:0adba852-419a-4efa-a399-6c734704e7b4#410'), rdflib.term.URIRef('http://www.w3.org/1999/02/22-rdf-syntax-ns#type'), rdflib.term.URIRef('urn:webprotege:ontology:0adba852-419a-4efa-a399-6c734704e7b4#Payment'))\n",
            "(rdflib.term.URIRef('urn:webprotege:ontology:0adba852-419a-4efa-a399-6c734704e7b4#410'), rdflib.term.URIRef('http://www.w3.org/1999/02/22-rdf-syntax-ns#type'), rdflib.term.URIRef('http://www.w3.org/2002/07/owl#NamedIndividual'))\n",
            "(rdflib.term.URIRef('urn:webprotege:ontology:0adba852-419a-4efa-a399-6c734704e7b4#56895'), rdflib.term.URIRef('http://www.w3.org/1999/02/22-rdf-syntax-ns#type'), rdflib.term.URIRef('urn:webprotege:ontology:0adba852-419a-4efa-a399-6c734704e7b4#Payment'))\n",
            "(rdflib.term.URIRef('urn:webprotege:ontology:0adba852-419a-4efa-a399-6c734704e7b4#56895'), rdflib.term.URIRef('http://www.w3.org/1999/02/22-rdf-syntax-ns#type'), rdflib.term.URIRef('http://www.w3.org/2002/07/owl#NamedIndividual'))\n",
            "(rdflib.term.URIRef('urn:webprotege:ontology:0adba852-419a-4efa-a399-6c734704e7b4#789'), rdflib.term.URIRef('http://www.w3.org/1999/02/22-rdf-syntax-ns#type'), rdflib.term.URIRef('urn:webprotege:ontology:0adba852-419a-4efa-a399-6c734704e7b4#Payment'))\n",
            "(rdflib.term.URIRef('urn:webprotege:ontology:0adba852-419a-4efa-a399-6c734704e7b4#789'), rdflib.term.URIRef('http://www.w3.org/1999/02/22-rdf-syntax-ns#type'), rdflib.term.URIRef('http://www.w3.org/2002/07/owl#NamedIndividual'))\n",
            "(rdflib.term.URIRef('urn:webprotege:ontology:0adba852-419a-4efa-a399-6c734704e7b4#6548'), rdflib.term.URIRef('http://www.w3.org/1999/02/22-rdf-syntax-ns#type'), rdflib.term.URIRef('urn:webprotege:ontology:0adba852-419a-4efa-a399-6c734704e7b4#Payment'))\n",
            "(rdflib.term.URIRef('urn:webprotege:ontology:0adba852-419a-4efa-a399-6c734704e7b4#6548'), rdflib.term.URIRef('http://www.w3.org/1999/02/22-rdf-syntax-ns#type'), rdflib.term.URIRef('http://www.w3.org/2002/07/owl#NamedIndividual'))\n",
            "(rdflib.term.URIRef('urn:webprotege:ontology:0adba852-419a-4efa-a399-6c734704e7b4#789'), rdflib.term.URIRef('http://www.w3.org/1999/02/22-rdf-syntax-ns#type'), rdflib.term.URIRef('urn:webprotege:ontology:0adba852-419a-4efa-a399-6c734704e7b4#Rmenu/Drinks/item'))\n",
            "(rdflib.term.URIRef('urn:webprotege:ontology:0adba852-419a-4efa-a399-6c734704e7b4#789'), rdflib.term.URIRef('http://www.w3.org/1999/02/22-rdf-syntax-ns#type'), rdflib.term.URIRef('http://www.w3.org/2002/07/owl#NamedIndividual'))\n",
            "(rdflib.term.URIRef(\"urn:webprotege:ontology:0adba852-419a-4efa-a399-6c734704e7b4#['Virgin_Mojito',_'120']\"), rdflib.term.URIRef('http://www.w3.org/1999/02/22-rdf-syntax-ns#type'), rdflib.term.URIRef('urn:webprotege:ontology:0adba852-419a-4efa-a399-6c734704e7b4#Rmenu/Drinks/item'))\n",
            "(rdflib.term.URIRef(\"urn:webprotege:ontology:0adba852-419a-4efa-a399-6c734704e7b4#['Virgin_Mojito',_'120']\"), rdflib.term.URIRef('http://www.w3.org/1999/02/22-rdf-syntax-ns#type'), rdflib.term.URIRef('http://www.w3.org/2002/07/owl#NamedIndividual'))\n",
            "(rdflib.term.URIRef(\"urn:webprotege:ontology:0adba852-419a-4efa-a399-6c734704e7b4#['ButterMilk',_'70']\"), rdflib.term.URIRef('http://www.w3.org/1999/02/22-rdf-syntax-ns#type'), rdflib.term.URIRef('urn:webprotege:ontology:0adba852-419a-4efa-a399-6c734704e7b4#Rmenu/Drinks/item'))\n",
            "(rdflib.term.URIRef(\"urn:webprotege:ontology:0adba852-419a-4efa-a399-6c734704e7b4#['ButterMilk',_'70']\"), rdflib.term.URIRef('http://www.w3.org/1999/02/22-rdf-syntax-ns#type'), rdflib.term.URIRef('http://www.w3.org/2002/07/owl#NamedIndividual'))\n",
            "(rdflib.term.URIRef(\"urn:webprotege:ontology:0adba852-419a-4efa-a399-6c734704e7b4#['Lime_Juice',_'110']\"), rdflib.term.URIRef('http://www.w3.org/1999/02/22-rdf-syntax-ns#type'), rdflib.term.URIRef('urn:webprotege:ontology:0adba852-419a-4efa-a399-6c734704e7b4#Rmenu/Drinks/item'))\n",
            "(rdflib.term.URIRef(\"urn:webprotege:ontology:0adba852-419a-4efa-a399-6c734704e7b4#['Lime_Juice',_'110']\"), rdflib.term.URIRef('http://www.w3.org/1999/02/22-rdf-syntax-ns#type'), rdflib.term.URIRef('http://www.w3.org/2002/07/owl#NamedIndividual'))\n",
            "(rdflib.term.URIRef(\"urn:webprotege:ontology:0adba852-419a-4efa-a399-6c734704e7b4#['Beer',_'150']\"), rdflib.term.URIRef('http://www.w3.org/1999/02/22-rdf-syntax-ns#type'), rdflib.term.URIRef('urn:webprotege:ontology:0adba852-419a-4efa-a399-6c734704e7b4#Rmenu/Drinks/item'))\n",
            "(rdflib.term.URIRef(\"urn:webprotege:ontology:0adba852-419a-4efa-a399-6c734704e7b4#['Beer',_'150']\"), rdflib.term.URIRef('http://www.w3.org/1999/02/22-rdf-syntax-ns#type'), rdflib.term.URIRef('http://www.w3.org/2002/07/owl#NamedIndividual'))\n"
          ]
        },
        {
          "output_type": "execute_result",
          "data": {
            "text/plain": [
              "<Graph identifier=Nd76db1c9887e489f87eadcb42446b3b8 (<class 'rdflib.graph.Graph'>)>"
            ]
          },
          "metadata": {},
          "execution_count": 331
        }
      ]
    },
    {
      "cell_type": "code",
      "source": [
        "for i in MG:\n",
        "  print(i)\n"
      ],
      "metadata": {
        "colab": {
          "base_uri": "https://localhost:8080/"
        },
        "id": "wpddBbTfaWSr",
        "outputId": "a8dd5023-4e7f-4450-aae8-0e36803e5685"
      },
      "execution_count": 332,
      "outputs": [
        {
          "output_type": "stream",
          "name": "stdout",
          "text": [
            "(rdflib.term.URIRef('http://webprotege.stanford.edu/RCgxBQuGy9Uq4hNLV8GCPtx'), rdflib.term.URIRef('http://www.w3.org/1999/02/22-rdf-syntax-ns#type'), rdflib.term.URIRef('http://www.w3.org/2002/07/owl#ObjectProperty'))\n",
            "(rdflib.term.URIRef('http://webprotege.stanford.edu/R85sPYK3R6YLuLztyelovCj'), rdflib.term.URIRef('http://www.w3.org/2000/01/rdf-schema#subPropertyOf'), rdflib.term.URIRef('http://webprotege.stanford.edu/R8xGJscgCZStVuvxTHYbswK'))\n",
            "(rdflib.term.URIRef('http://webprotege.stanford.edu/R9q3YgzgZCGqWmsos9yGNi9'), rdflib.term.URIRef('http://www.w3.org/2000/01/rdf-schema#comment'), rdflib.term.Literal('Detail Restaurant Feedback', datatype=rdflib.term.URIRef('http://www.w3.org/2001/XMLSchema#string')))\n",
            "(rdflib.term.BNode('Nb5d6aa878c364cef96543643b3a1f98e'), rdflib.term.URIRef('http://www.w3.org/2002/07/owl#someValuesFrom'), rdflib.term.URIRef('http://webprotege.stanford.edu/RDWF0IJHEMa7qhkTpP2icxs'))\n",
            "(rdflib.term.URIRef(\"urn:webprotege:ontology:0adba852-419a-4efa-a399-6c734704e7b4#['Virgin_Mojito',_'120']\"), rdflib.term.URIRef('http://www.w3.org/1999/02/22-rdf-syntax-ns#type'), rdflib.term.URIRef('http://www.w3.org/2002/07/owl#NamedIndividual'))\n",
            "(rdflib.term.URIRef('http://webprotege.stanford.edu/R8tV1XfEH6y8CKUsXL9tW2x'), rdflib.term.URIRef('http://www.w3.org/2000/01/rdf-schema#label'), rdflib.term.Literal('CustomerName'))\n",
            "(rdflib.term.URIRef('http://webprotege.stanford.edu/RDWF0IJHEMa7qhkTpP2icxs'), rdflib.term.URIRef('http://www.w3.org/2000/01/rdf-schema#label'), rdflib.term.Literal('Payments'))\n",
            "(rdflib.term.URIRef('http://webprotege.stanford.edu/R87pNLROGFWrF5olpADehgz'), rdflib.term.URIRef('http://www.w3.org/2000/01/rdf-schema#comment'), rdflib.term.Literal('Detailed Customer Rating(1-5)', datatype=rdflib.term.URIRef('http://www.w3.org/2001/XMLSchema#string')))\n",
            "(rdflib.term.URIRef('http://webprotege.stanford.edu/RCXabHoTWnVUCzHwQZ8zkZh'), rdflib.term.URIRef('http://www.w3.org/2000/01/rdf-schema#subClassOf'), rdflib.term.BNode('Ndbda53aa9694472fa797724f6ab77e82'))\n",
            "(rdflib.term.URIRef('http://webprotege.stanford.edu/R8EJnTHAxqTvM0df0F3lrEC'), rdflib.term.URIRef('http://www.w3.org/2000/01/rdf-schema#range'), rdflib.term.URIRef('http://www.w3.org/2001/XMLSchema#string'))\n",
            "(rdflib.term.BNode('N50f9df4205b84b45a38f740cb1df3bdc'), rdflib.term.URIRef('http://www.w3.org/2002/07/owl#someValuesFrom'), rdflib.term.URIRef('http://webprotege.stanford.edu/RDe4s6AGSFCVZNYcBp3qL4P'))\n",
            "(rdflib.term.URIRef('urn:webprotege:ontology:0adba852-419a-4efa-a399-6c734704e7b4#56895'), rdflib.term.URIRef('http://www.w3.org/1999/02/22-rdf-syntax-ns#type'), rdflib.term.URIRef('urn:webprotege:ontology:0adba852-419a-4efa-a399-6c734704e7b4#Payment'))\n",
            "(rdflib.term.URIRef('http://webprotege.stanford.edu/RCzBgbHD7Vm5O3jVE4ntGLZ'), rdflib.term.URIRef('http://www.w3.org/1999/02/22-rdf-syntax-ns#type'), rdflib.term.URIRef('http://www.w3.org/2002/07/owl#DatatypeProperty'))\n",
            "(rdflib.term.URIRef('http://webprotege.stanford.edu/RDb7amnSUHVG3PlShcsTcAn'), rdflib.term.URIRef('http://www.w3.org/2000/01/rdf-schema#domain'), rdflib.term.URIRef('http://webprotege.stanford.edu/RDWF0IJHEMa7qhkTpP2icxs'))\n",
            "(rdflib.term.URIRef('http://webprotege.stanford.edu/RCPwdEdalCPmPVYPzajbTz'), rdflib.term.URIRef('http://www.w3.org/2000/01/rdf-schema#domain'), rdflib.term.URIRef('http://webprotege.stanford.edu/RBC6FgHzL4npHR0jd0BLdj7'))\n",
            "(rdflib.term.URIRef('http://webprotege.stanford.edu/RDb7amnSUHVG3PlShcsTcAn'), rdflib.term.URIRef('http://www.w3.org/2000/01/rdf-schema#range'), rdflib.term.URIRef('http://www.w3.org/2001/XMLSchema#string'))\n",
            "(rdflib.term.URIRef('http://webprotege.stanford.edu/RmVaYeNa44s6i7uXCAVhX9'), rdflib.term.URIRef('http://www.w3.org/1999/02/22-rdf-syntax-ns#type'), rdflib.term.URIRef('http://www.w3.org/2002/07/owl#DatatypeProperty'))\n",
            "(rdflib.term.URIRef('http://webprotege.stanford.edu/RCrfjs7UgSmJonhePLXzOZM'), rdflib.term.URIRef('http://www.w3.org/2000/01/rdf-schema#subPropertyOf'), rdflib.term.URIRef('http://webprotege.stanford.edu/R7AAcDk7WeUxIKeQ1PIKKr'))\n",
            "(rdflib.term.URIRef('http://webprotege.stanford.edu/R8EJnTHAxqTvM0df0F3lrEC'), rdflib.term.URIRef('http://www.w3.org/1999/02/22-rdf-syntax-ns#type'), rdflib.term.URIRef('http://www.w3.org/2002/07/owl#DatatypeProperty'))\n",
            "(rdflib.term.URIRef('http://webprotege.stanford.edu/RRHO82jDSvMExgK5IxjTRI'), rdflib.term.URIRef('http://www.w3.org/2000/01/rdf-schema#range'), rdflib.term.URIRef('http://webprotege.stanford.edu/RBLCZ1qATHZq7GoWq7iXTzD'))\n",
            "(rdflib.term.URIRef('http://webprotege.stanford.edu/R7tBnWkkWGK0LKps9niEyBB'), rdflib.term.URIRef('http://www.w3.org/2000/01/rdf-schema#subPropertyOf'), rdflib.term.URIRef('http://webprotege.stanford.edu/R8xGJscgCZStVuvxTHYbswK'))\n",
            "(rdflib.term.URIRef('http://webprotege.stanford.edu/RipSkDwyh1dVcjXqx8HTwp'), rdflib.term.URIRef('http://www.w3.org/2000/01/rdf-schema#comment'), rdflib.term.Literal('Debit/Credit Card Detail', datatype=rdflib.term.URIRef('http://www.w3.org/2001/XMLSchema#string')))\n",
            "(rdflib.term.URIRef('http://webprotege.stanford.edu/RCpHJmbKiHoTsxUSiQnBGp1'), rdflib.term.URIRef('http://www.w3.org/1999/02/22-rdf-syntax-ns#type'), rdflib.term.URIRef('http://www.w3.org/2002/07/owl#DatatypeProperty'))\n",
            "(rdflib.term.URIRef('http://webprotege.stanford.edu/RZbHPRaWRMAdcuf6Q2OgVI'), rdflib.term.URIRef('http://www.w3.org/2000/01/rdf-schema#subPropertyOf'), rdflib.term.URIRef('http://webprotege.stanford.edu/RCrfjs7UgSmJonhePLXzOZM'))\n",
            "(rdflib.term.URIRef('http://webprotege.stanford.edu/R7AAcDk7WeUxIKeQ1PIKKr'), rdflib.term.URIRef('http://www.w3.org/2000/01/rdf-schema#range'), rdflib.term.URIRef('http://www.w3.org/2001/XMLSchema#string'))\n",
            "(rdflib.term.URIRef('http://webprotege.stanford.edu/RBI1VdgHelj7D52ByC1c4HN'), rdflib.term.URIRef('http://www.w3.org/2000/01/rdf-schema#range'), rdflib.term.URIRef('http://webprotege.stanford.edu/R8DEzXH7pOqwB33gBYEDEDJ'))\n",
            "(rdflib.term.URIRef('http://webprotege.stanford.edu/RCWuxUrDSBmQAm7eNmWrO6M'), rdflib.term.URIRef('http://www.w3.org/2000/01/rdf-schema#subPropertyOf'), rdflib.term.URIRef('http://webprotege.stanford.edu/R8xGJscgCZStVuvxTHYbswK'))\n",
            "(rdflib.term.URIRef('http://webprotege.stanford.edu/RDEcFue2m6UuIuMtuTJFZWI'), rdflib.term.URIRef('http://www.w3.org/2000/01/rdf-schema#range'), rdflib.term.URIRef('http://www.w3.org/2001/XMLSchema#integer'))\n",
            "(rdflib.term.URIRef('http://webprotege.stanford.edu/RCrfjs7UgSmJonhePLXzOZM'), rdflib.term.URIRef('http://www.w3.org/2000/01/rdf-schema#range'), rdflib.term.URIRef('http://www.w3.org/2001/XMLSchema#string'))\n",
            "(rdflib.term.URIRef('http://webprotege.stanford.edu/R87pNLROGFWrF5olpADehgz'), rdflib.term.URIRef('http://www.w3.org/2000/01/rdf-schema#subPropertyOf'), rdflib.term.URIRef('http://webprotege.stanford.edu/R8EJnTHAxqTvM0df0F3lrEC'))\n",
            "(rdflib.term.URIRef('http://webprotege.stanford.edu/RCB2KdWsdAQ7QsvIwQrALUZ'), rdflib.term.URIRef('http://www.w3.org/1999/02/22-rdf-syntax-ns#type'), rdflib.term.URIRef('http://www.w3.org/2002/07/owl#ObjectProperty'))\n",
            "(rdflib.term.BNode('N406bb6b482994321a9e765ccadc40503'), rdflib.term.URIRef('http://www.w3.org/2002/07/owl#onProperty'), rdflib.term.URIRef('http://webprotege.stanford.edu/R7TgW7ebIZUYCjrE6XAADjl'))\n",
            "(rdflib.term.URIRef('http://webprotege.stanford.edu/RDN7QmWfOChJg7poCuQnDDd'), rdflib.term.URIRef('http://www.w3.org/2000/01/rdf-schema#domain'), rdflib.term.URIRef('http://webprotege.stanford.edu/R7iNKiSWVkt70AUZiRep7NZ'))\n",
            "(rdflib.term.URIRef('http://webprotege.stanford.edu/RDe4s6AGSFCVZNYcBp3qL4P'), rdflib.term.URIRef('http://www.w3.org/1999/02/22-rdf-syntax-ns#type'), rdflib.term.URIRef('http://www.w3.org/2002/07/owl#Class'))\n",
            "(rdflib.term.BNode('N1a71bab8402841a799ca65efcd21f1a7'), rdflib.term.URIRef('http://www.w3.org/1999/02/22-rdf-syntax-ns#type'), rdflib.term.URIRef('http://www.w3.org/2002/07/owl#Restriction'))\n",
            "(rdflib.term.URIRef(\"urn:webprotege:ontology:0adba852-419a-4efa-a399-6c734704e7b4#['Virgin_Mojito',_'120']\"), rdflib.term.URIRef('http://www.w3.org/1999/02/22-rdf-syntax-ns#type'), rdflib.term.URIRef('urn:webprotege:ontology:0adba852-419a-4efa-a399-6c734704e7b4#Rmenu/Drinks/item'))\n",
            "(rdflib.term.URIRef('http://webprotege.stanford.edu/R9LYFTRKtKWQytBOUTzI1Nj'), rdflib.term.URIRef('http://www.w3.org/2000/01/rdf-schema#domain'), rdflib.term.URIRef('http://webprotege.stanford.edu/RBPJJu8bG3vZ17Q5hA82MLh'))\n",
            "(rdflib.term.URIRef('http://webprotege.stanford.edu/R9q3YgzgZCGqWmsos9yGNi9'), rdflib.term.URIRef('http://www.w3.org/1999/02/22-rdf-syntax-ns#type'), rdflib.term.URIRef('http://www.w3.org/2002/07/owl#DatatypeProperty'))\n",
            "(rdflib.term.URIRef('http://webprotege.stanford.edu/R9YJMmAVuPxPgcaGt2yfHS2'), rdflib.term.URIRef('http://www.w3.org/1999/02/22-rdf-syntax-ns#type'), rdflib.term.URIRef('http://www.w3.org/2002/07/owl#DatatypeProperty'))\n",
            "(rdflib.term.URIRef('http://webprotege.stanford.edu/RCwfhCqKf1QhFsZHpu3tBuy'), rdflib.term.URIRef('http://www.w3.org/2000/01/rdf-schema#subPropertyOf'), rdflib.term.URIRef('http://www.w3.org/2002/07/owl#topDataProperty'))\n",
            "(rdflib.term.URIRef('http://webprotege.stanford.edu/RB4FElvrnxm8fyZSTOhzzG'), rdflib.term.URIRef('http://www.w3.org/2000/01/rdf-schema#label'), rdflib.term.Literal('ServesTo'))\n",
            "(rdflib.term.URIRef('http://webprotege.stanford.edu/RBbspCC1EXO2JZpSTpuFUVK'), rdflib.term.URIRef('http://www.w3.org/2000/01/rdf-schema#subClassOf'), rdflib.term.URIRef('http://webprotege.stanford.edu/R8x5ufVivKG7njIRoqA1BHJ'))\n",
            "(rdflib.term.URIRef('http://webprotege.stanford.edu/RipSkDwyh1dVcjXqx8HTwp'), rdflib.term.URIRef('http://www.w3.org/2000/01/rdf-schema#subPropertyOf'), rdflib.term.URIRef('http://webprotege.stanford.edu/RDb7amnSUHVG3PlShcsTcAn'))\n",
            "(rdflib.term.URIRef('urn:webprotege:ontology:0adba852-419a-4efa-a399-6c734704e7b4'), rdflib.term.URIRef('http://www.w3.org/1999/02/22-rdf-syntax-ns#type'), rdflib.term.URIRef('http://www.w3.org/2002/07/owl#Ontology'))\n",
            "(rdflib.term.URIRef('http://webprotege.stanford.edu/R7iNKiSWVkt70AUZiRep7NZ'), rdflib.term.URIRef('http://www.w3.org/2000/01/rdf-schema#subClassOf'), rdflib.term.URIRef('http://webprotege.stanford.edu/R8DEzXH7pOqwB33gBYEDEDJ'))\n",
            "(rdflib.term.BNode('N3f7a5978d60547dfae341edc2d7369dd'), rdflib.term.URIRef('http://www.w3.org/2002/07/owl#someValuesFrom'), rdflib.term.URIRef('http://webprotege.stanford.edu/RBPJJu8bG3vZ17Q5hA82MLh'))\n",
            "(rdflib.term.URIRef('http://webprotege.stanford.edu/RCPwdEdalCPmPVYPzajbTz'), rdflib.term.URIRef('http://www.w3.org/2000/01/rdf-schema#range'), rdflib.term.URIRef('http://www.w3.org/2001/XMLSchema#string'))\n",
            "(rdflib.term.URIRef('http://webprotege.stanford.edu/RZbHPRaWRMAdcuf6Q2OgVI'), rdflib.term.URIRef('http://www.w3.org/2000/01/rdf-schema#comment'), rdflib.term.Literal('Main customer address to be written here', datatype=rdflib.term.URIRef('http://www.w3.org/2001/XMLSchema#string')))\n",
            "(rdflib.term.URIRef('http://webprotege.stanford.edu/RRHO82jDSvMExgK5IxjTRI'), rdflib.term.URIRef('http://www.w3.org/2000/01/rdf-schema#domain'), rdflib.term.URIRef('http://webprotege.stanford.edu/R7x1gTVQphnPmP7A8Fpe1AX'))\n",
            "(rdflib.term.URIRef('http://webprotege.stanford.edu/RCPwdEdalCPmPVYPzajbTz'), rdflib.term.URIRef('http://www.w3.org/2000/01/rdf-schema#subPropertyOf'), rdflib.term.URIRef('http://www.w3.org/2002/07/owl#topDataProperty'))\n",
            "(rdflib.term.URIRef('http://webprotege.stanford.edu/R7ytJx3wwwUiUmLJSIbe96A'), rdflib.term.URIRef('http://www.w3.org/2000/01/rdf-schema#subClassOf'), rdflib.term.URIRef('http://webprotege.stanford.edu/R8t7xwYZ66IWwGtQ4whppVw'))\n",
            "(rdflib.term.URIRef('urn:webprotege:ontology:0adba852-419a-4efa-a399-6c734704e7b4#56895'), rdflib.term.URIRef('http://www.w3.org/1999/02/22-rdf-syntax-ns#type'), rdflib.term.URIRef('urn:webprotege:ontology:0adba852-419a-4efa-a399-6c734704e7b4#order'))\n",
            "(rdflib.term.URIRef('http://webprotege.stanford.edu/R97LOWR9JP6eA0Hn04xQBmo'), rdflib.term.URIRef('http://www.w3.org/2000/01/rdf-schema#subPropertyOf'), rdflib.term.URIRef('http://webprotege.stanford.edu/RCJ9tr2hWRif8sv1TRHY2Tb'))\n",
            "(rdflib.term.URIRef('http://webprotege.stanford.edu/RZbHPRaWRMAdcuf6Q2OgVI'), rdflib.term.URIRef('http://www.w3.org/2000/01/rdf-schema#subPropertyOf'), rdflib.term.URIRef('http://webprotege.stanford.edu/RCJ9tr2hWRif8sv1TRHY2Tb'))\n",
            "(rdflib.term.URIRef('http://webprotege.stanford.edu/R8DEzXH7pOqwB33gBYEDEDJ'), rdflib.term.URIRef('http://www.w3.org/2000/01/rdf-schema#label'), rdflib.term.Literal('FoodDeliverApp'))\n",
            "(rdflib.term.URIRef('http://webprotege.stanford.edu/RCzBgbHD7Vm5O3jVE4ntGLZ'), rdflib.term.URIRef('http://www.w3.org/2000/01/rdf-schema#range'), rdflib.term.URIRef('http://www.w3.org/2001/XMLSchema#string'))\n",
            "(rdflib.term.URIRef('http://webprotege.stanford.edu/RBIF6veGOHOTBmEO0B2wvy7'), rdflib.term.URIRef('http://www.w3.org/2000/01/rdf-schema#domain'), rdflib.term.URIRef('http://webprotege.stanford.edu/R7ytJx3wwwUiUmLJSIbe96A'))\n",
            "(rdflib.term.URIRef('http://webprotege.stanford.edu/R8jARtLXEPEM00GXrJUF5Mc'), rdflib.term.URIRef('http://www.w3.org/1999/02/22-rdf-syntax-ns#type'), rdflib.term.URIRef('http://www.w3.org/2002/07/owl#DatatypeProperty'))\n",
            "(rdflib.term.URIRef('http://webprotege.stanford.edu/R87pNLROGFWrF5olpADehgz'), rdflib.term.URIRef('http://www.w3.org/2000/01/rdf-schema#range'), rdflib.term.URIRef('http://www.w3.org/2001/XMLSchema#integer'))\n",
            "(rdflib.term.URIRef('http://webprotege.stanford.edu/RDN7QmWfOChJg7poCuQnDDd'), rdflib.term.URIRef('http://www.w3.org/1999/02/22-rdf-syntax-ns#type'), rdflib.term.URIRef('http://www.w3.org/2002/07/owl#ObjectProperty'))\n",
            "(rdflib.term.URIRef('http://webprotege.stanford.edu/R4RPloVPzTpqU8kcAl3Dkr'), rdflib.term.URIRef('http://www.w3.org/2000/01/rdf-schema#label'), rdflib.term.Literal('DeliveryAgentFeeds'))\n",
            "(rdflib.term.BNode('Nb5d6aa878c364cef96543643b3a1f98e'), rdflib.term.URIRef('http://www.w3.org/2002/07/owl#onProperty'), rdflib.term.URIRef('http://webprotege.stanford.edu/RCUteHB5v3toxEO0btAOLDF'))\n",
            "(rdflib.term.URIRef('http://webprotege.stanford.edu/R8jARtLXEPEM00GXrJUF5Mc'), rdflib.term.URIRef('http://www.w3.org/2000/01/rdf-schema#label'), rdflib.term.Literal('VehicleDetails'))\n",
            "(rdflib.term.URIRef('http://webprotege.stanford.edu/R7AAcDk7WeUxIKeQ1PIKKr'), rdflib.term.URIRef('http://www.w3.org/2000/01/rdf-schema#label'), rdflib.term.Literal('CutomerId'))\n",
            "(rdflib.term.URIRef('http://webprotege.stanford.edu/RCzBgbHD7Vm5O3jVE4ntGLZ'), rdflib.term.URIRef('http://www.w3.org/2000/01/rdf-schema#subPropertyOf'), rdflib.term.URIRef('http://webprotege.stanford.edu/RCwfhCqKf1QhFsZHpu3tBuy'))\n",
            "(rdflib.term.BNode('N04db774a79d8436792f7a06f1985fbf6'), rdflib.term.URIRef('http://www.w3.org/2002/07/owl#someValuesFrom'), rdflib.term.URIRef('http://webprotege.stanford.edu/R7iNKiSWVkt70AUZiRep7NZ'))\n",
            "(rdflib.term.URIRef('http://webprotege.stanford.edu/RBSnAThnuCdqPuS6rKTMkxp'), rdflib.term.URIRef('http://www.w3.org/1999/02/22-rdf-syntax-ns#type'), rdflib.term.URIRef('http://www.w3.org/2002/07/owl#Class'))\n",
            "(rdflib.term.URIRef('http://webprotege.stanford.edu/RCPwdEdalCPmPVYPzajbTz'), rdflib.term.URIRef('http://www.w3.org/2000/01/rdf-schema#domain'), rdflib.term.URIRef('http://webprotege.stanford.edu/RBWH4XAJd1hhI2jkD6XpB29'))\n",
            "(rdflib.term.URIRef('http://webprotege.stanford.edu/RBPJJu8bG3vZ17Q5hA82MLh'), rdflib.term.URIRef('http://www.w3.org/2000/01/rdf-schema#label'), rdflib.term.Literal('Customer'))\n",
            "(rdflib.term.URIRef('http://webprotege.stanford.edu/R98QAq8ezuDv4jkLopMemw6'), rdflib.term.URIRef('http://www.w3.org/1999/02/22-rdf-syntax-ns#type'), rdflib.term.URIRef('http://www.w3.org/2002/07/owl#DatatypeProperty'))\n",
            "(rdflib.term.BNode('N50f9df4205b84b45a38f740cb1df3bdc'), rdflib.term.URIRef('http://www.w3.org/1999/02/22-rdf-syntax-ns#type'), rdflib.term.URIRef('http://www.w3.org/2002/07/owl#Restriction'))\n",
            "(rdflib.term.URIRef(\"urn:webprotege:ontology:0adba852-419a-4efa-a399-6c734704e7b4#['ButterMilk',_'70']\"), rdflib.term.URIRef('http://www.w3.org/1999/02/22-rdf-syntax-ns#type'), rdflib.term.URIRef('urn:webprotege:ontology:0adba852-419a-4efa-a399-6c734704e7b4#Rmenu/Drinks/item'))\n",
            "(rdflib.term.BNode('Nd13da6bdbc504e5284b8e3bffbd6e0c7'), rdflib.term.URIRef('http://www.w3.org/2002/07/owl#someValuesFrom'), rdflib.term.URIRef('http://webprotege.stanford.edu/R7iNKiSWVkt70AUZiRep7NZ'))\n",
            "(rdflib.term.BNode('N0dc53fb93b0444e790d0817fd89813d7'), rdflib.term.URIRef('http://www.w3.org/2002/07/owl#someValuesFrom'), rdflib.term.URIRef('http://webprotege.stanford.edu/RBWH4XAJd1hhI2jkD6XpB29'))\n",
            "(rdflib.term.URIRef('http://webprotege.stanford.edu/REhwsPiNE41LHzXChT0OQS'), rdflib.term.URIRef('http://www.w3.org/2000/01/rdf-schema#subPropertyOf'), rdflib.term.URIRef('http://www.w3.org/2002/07/owl#topDataProperty'))\n",
            "(rdflib.term.URIRef('http://webprotege.stanford.edu/R8t7xwYZ66IWwGtQ4whppVw'), rdflib.term.URIRef('http://www.w3.org/2000/01/rdf-schema#label'), rdflib.term.Literal('FeedBacks'))\n",
            "(rdflib.term.URIRef('http://webprotege.stanford.edu/R8loj2kfwqgkGHW7qeRYx5n'), rdflib.term.URIRef('http://www.w3.org/2000/01/rdf-schema#range'), rdflib.term.URIRef('http://www.w3.org/2001/XMLSchema#integer'))\n",
            "(rdflib.term.URIRef('http://webprotege.stanford.edu/R97LOWR9JP6eA0Hn04xQBmo'), rdflib.term.URIRef('http://www.w3.org/2000/01/rdf-schema#subPropertyOf'), rdflib.term.URIRef('http://webprotege.stanford.edu/RCrfjs7UgSmJonhePLXzOZM'))\n",
            "(rdflib.term.BNode('N6f5f9aee6d124ae98b7452661ebf9fd8'), rdflib.term.URIRef('http://www.w3.org/1999/02/22-rdf-syntax-ns#type'), rdflib.term.URIRef('http://www.w3.org/2002/07/owl#Restriction'))\n",
            "(rdflib.term.URIRef('http://webprotege.stanford.edu/RBYkQN5aZtyiCyynBAP9pyZ'), rdflib.term.URIRef('http://www.w3.org/2000/01/rdf-schema#label'), rdflib.term.Literal('CallSupport'))\n",
            "(rdflib.term.URIRef('http://webprotege.stanford.edu/R8H3w5g9u3rddaoJUWKVeBj'), rdflib.term.URIRef('http://www.w3.org/2000/01/rdf-schema#label'), rdflib.term.Literal('Restaurant_ContactDetail'))\n",
            "(rdflib.term.URIRef('urn:webprotege:ontology:0adba852-419a-4efa-a399-6c734704e7b4#789'), rdflib.term.URIRef('http://www.w3.org/1999/02/22-rdf-syntax-ns#type'), rdflib.term.URIRef('http://www.w3.org/2002/07/owl#NamedIndividual'))\n",
            "(rdflib.term.URIRef('http://webprotege.stanford.edu/REhwsPiNE41LHzXChT0OQS'), rdflib.term.URIRef('http://www.w3.org/2000/01/rdf-schema#range'), rdflib.term.URIRef('http://www.w3.org/2001/XMLSchema#string'))\n",
            "(rdflib.term.URIRef('http://webprotege.stanford.edu/REhwsPiNE41LHzXChT0OQS'), rdflib.term.URIRef('http://www.w3.org/2000/01/rdf-schema#label'), rdflib.term.Literal('DeliverServiceProviderID'))\n",
            "(rdflib.term.URIRef('http://webprotege.stanford.edu/RBWH4XAJd1hhI2jkD6XpB29'), rdflib.term.URIRef('http://www.w3.org/2000/01/rdf-schema#subClassOf'), rdflib.term.BNode('N1a71bab8402841a799ca65efcd21f1a7'))\n",
            "(rdflib.term.URIRef('http://webprotege.stanford.edu/R7iNKiSWVkt70AUZiRep7NZ'), rdflib.term.URIRef('http://www.w3.org/2000/01/rdf-schema#subClassOf'), rdflib.term.BNode('N2871bfd59be044b8b780b3d5d787c84d'))\n",
            "(rdflib.term.URIRef('http://webprotege.stanford.edu/RBIF6veGOHOTBmEO0B2wvy7'), rdflib.term.URIRef('http://www.w3.org/1999/02/22-rdf-syntax-ns#type'), rdflib.term.URIRef('http://www.w3.org/2002/07/owl#DatatypeProperty'))\n",
            "(rdflib.term.URIRef('http://webprotege.stanford.edu/RnjoElGXqkcfbspdq6zjxg'), rdflib.term.URIRef('http://www.w3.org/1999/02/22-rdf-syntax-ns#type'), rdflib.term.URIRef('http://www.w3.org/2002/07/owl#DatatypeProperty'))\n",
            "(rdflib.term.URIRef('http://webprotege.stanford.edu/RBXNCFeJ8XWf798gOcnkVzw'), rdflib.term.URIRef('http://www.w3.org/2000/01/rdf-schema#label'), rdflib.term.Literal('Person'))\n",
            "(rdflib.term.BNode('N04db774a79d8436792f7a06f1985fbf6'), rdflib.term.URIRef('http://www.w3.org/1999/02/22-rdf-syntax-ns#type'), rdflib.term.URIRef('http://www.w3.org/2002/07/owl#Restriction'))\n",
            "(rdflib.term.URIRef('http://webprotege.stanford.edu/RDVoPhXEHLgnJFRqGhz0g4u'), rdflib.term.URIRef('http://www.w3.org/2000/01/rdf-schema#range'), rdflib.term.URIRef('http://webprotege.stanford.edu/R7iNKiSWVkt70AUZiRep7NZ'))\n",
            "(rdflib.term.URIRef('urn:webprotege:ontology:0adba852-419a-4efa-a399-6c734704e7b4#6548'), rdflib.term.URIRef('http://www.w3.org/1999/02/22-rdf-syntax-ns#type'), rdflib.term.URIRef('urn:webprotege:ontology:0adba852-419a-4efa-a399-6c734704e7b4#Customer'))\n",
            "(rdflib.term.URIRef('http://webprotege.stanford.edu/R7ytJx3wwwUiUmLJSIbe96A'), rdflib.term.URIRef('http://www.w3.org/1999/02/22-rdf-syntax-ns#type'), rdflib.term.URIRef('http://www.w3.org/2002/07/owl#Class'))\n",
            "(rdflib.term.URIRef('http://webprotege.stanford.edu/R7iNKiSWVkt70AUZiRep7NZ'), rdflib.term.URIRef('http://www.w3.org/2000/01/rdf-schema#subClassOf'), rdflib.term.BNode('N3f7a5978d60547dfae341edc2d7369dd'))\n",
            "(rdflib.term.BNode('N406bb6b482994321a9e765ccadc40503'), rdflib.term.URIRef('http://www.w3.org/1999/02/22-rdf-syntax-ns#type'), rdflib.term.URIRef('http://www.w3.org/2002/07/owl#Restriction'))\n",
            "(rdflib.term.URIRef('http://webprotege.stanford.edu/RBI1VdgHelj7D52ByC1c4HN'), rdflib.term.URIRef('http://www.w3.org/1999/02/22-rdf-syntax-ns#type'), rdflib.term.URIRef('http://www.w3.org/2002/07/owl#ObjectProperty'))\n",
            "(rdflib.term.URIRef('http://webprotege.stanford.edu/R8sgFHS86nROr9qyH6fsjNu'), rdflib.term.URIRef('http://www.w3.org/1999/02/22-rdf-syntax-ns#type'), rdflib.term.URIRef('http://www.w3.org/2002/07/owl#ObjectProperty'))\n",
            "(rdflib.term.BNode('N63333de5e0634408bda3c51fe5f7098a'), rdflib.term.URIRef('http://www.w3.org/1999/02/22-rdf-syntax-ns#type'), rdflib.term.URIRef('http://www.w3.org/2002/07/owl#Restriction'))\n",
            "(rdflib.term.URIRef('http://webprotege.stanford.edu/RHY4VM01JHBgetRcGRxGBp'), rdflib.term.URIRef('http://www.w3.org/1999/02/22-rdf-syntax-ns#type'), rdflib.term.URIRef('http://www.w3.org/2002/07/owl#DatatypeProperty'))\n",
            "(rdflib.term.URIRef('http://webprotege.stanford.edu/RipSkDwyh1dVcjXqx8HTwp'), rdflib.term.URIRef('http://www.w3.org/2000/01/rdf-schema#range'), rdflib.term.URIRef('http://www.w3.org/2001/XMLSchema#string'))\n",
            "(rdflib.term.BNode('N1ba31d1b1f1c49b3bbb4a4bf1d2d566a'), rdflib.term.URIRef('http://www.w3.org/2002/07/owl#someValuesFrom'), rdflib.term.URIRef('http://webprotege.stanford.edu/RDqmr5cwi1Y8zAWPL4pyE2H'))\n",
            "(rdflib.term.URIRef('http://webprotege.stanford.edu/R8t7xwYZ66IWwGtQ4whppVw'), rdflib.term.URIRef('http://www.w3.org/1999/02/22-rdf-syntax-ns#type'), rdflib.term.URIRef('http://www.w3.org/2002/07/owl#Class'))\n",
            "(rdflib.term.URIRef('urn:webprotege:ontology:0adba852-419a-4efa-a399-6c734704e7b4#9256878932'), rdflib.term.URIRef('http://www.w3.org/1999/02/22-rdf-syntax-ns#type'), rdflib.term.URIRef('urn:webprotege:ontology:0adba852-419a-4efa-a399-6c734704e7b4#Customer'))\n",
            "(rdflib.term.BNode('N1a71bab8402841a799ca65efcd21f1a7'), rdflib.term.URIRef('http://www.w3.org/2002/07/owl#someValuesFrom'), rdflib.term.URIRef('http://webprotege.stanford.edu/RBPJJu8bG3vZ17Q5hA82MLh'))\n",
            "(rdflib.term.URIRef('http://webprotege.stanford.edu/RBYkQN5aZtyiCyynBAP9pyZ'), rdflib.term.URIRef('http://www.w3.org/2000/01/rdf-schema#subClassOf'), rdflib.term.URIRef('http://webprotege.stanford.edu/RBLCZ1qATHZq7GoWq7iXTzD'))\n",
            "(rdflib.term.URIRef('http://webprotege.stanford.edu/R7x1gTVQphnPmP7A8Fpe1AX'), rdflib.term.URIRef('http://www.w3.org/2000/01/rdf-schema#subClassOf'), rdflib.term.URIRef('http://webprotege.stanford.edu/R8DEzXH7pOqwB33gBYEDEDJ'))\n",
            "(rdflib.term.BNode('N63333de5e0634408bda3c51fe5f7098a'), rdflib.term.URIRef('http://www.w3.org/2002/07/owl#onProperty'), rdflib.term.URIRef('http://webprotege.stanford.edu/R9LYFTRKtKWQytBOUTzI1Nj'))\n",
            "(rdflib.term.URIRef('http://webprotege.stanford.edu/RCUteHB5v3toxEO0btAOLDF'), rdflib.term.URIRef('http://www.w3.org/2000/01/rdf-schema#domain'), rdflib.term.URIRef('http://webprotege.stanford.edu/R8DEzXH7pOqwB33gBYEDEDJ'))\n",
            "(rdflib.term.URIRef('http://webprotege.stanford.edu/Rnuq3FpyJU1vQy6pPhU9oG'), rdflib.term.URIRef('http://www.w3.org/2000/01/rdf-schema#subClassOf'), rdflib.term.URIRef('http://webprotege.stanford.edu/RYsdrMeS1d2XSW33oS3Uk4'))\n",
            "(rdflib.term.URIRef('urn:webprotege:ontology:0adba852-419a-4efa-a399-6c734704e7b4#6548'), rdflib.term.URIRef('http://www.w3.org/1999/02/22-rdf-syntax-ns#type'), rdflib.term.URIRef('urn:webprotege:ontology:0adba852-419a-4efa-a399-6c734704e7b4#Payment'))\n",
            "(rdflib.term.BNode('N17755c56163e4dc39b18d522bcf54583'), rdflib.term.URIRef('http://www.w3.org/1999/02/22-rdf-syntax-ns#type'), rdflib.term.URIRef('http://www.w3.org/2002/07/owl#Restriction'))\n",
            "(rdflib.term.URIRef('http://webprotege.stanford.edu/RCUteHB5v3toxEO0btAOLDF'), rdflib.term.URIRef('http://www.w3.org/2000/01/rdf-schema#range'), rdflib.term.URIRef('http://webprotege.stanford.edu/RDWF0IJHEMa7qhkTpP2icxs'))\n",
            "(rdflib.term.URIRef('http://webprotege.stanford.edu/REhwsPiNE41LHzXChT0OQS'), rdflib.term.URIRef('http://www.w3.org/1999/02/22-rdf-syntax-ns#type'), rdflib.term.URIRef('http://www.w3.org/2002/07/owl#DatatypeProperty'))\n",
            "(rdflib.term.URIRef('http://webprotege.stanford.edu/RDJwqz3tVzMNl35Ytk2jRw5'), rdflib.term.URIRef('http://www.w3.org/2000/01/rdf-schema#domain'), rdflib.term.URIRef('http://webprotege.stanford.edu/RCXabHoTWnVUCzHwQZ8zkZh'))\n",
            "(rdflib.term.URIRef('http://webprotege.stanford.edu/RYsdrMeS1d2XSW33oS3Uk4'), rdflib.term.URIRef('http://www.w3.org/2000/01/rdf-schema#label'), rdflib.term.Literal('RMenu', datatype=rdflib.term.URIRef('http://www.w3.org/2001/XMLSchema#string')))\n",
            "(rdflib.term.URIRef('http://webprotege.stanford.edu/R8Z4kyqmMvO0xkBgbwaUyDa'), rdflib.term.URIRef('http://www.w3.org/2000/01/rdf-schema#domain'), rdflib.term.URIRef('http://webprotege.stanford.edu/RBWH4XAJd1hhI2jkD6XpB29'))\n",
            "(rdflib.term.URIRef('http://webprotege.stanford.edu/RCPwdEdalCPmPVYPzajbTz'), rdflib.term.URIRef('http://www.w3.org/1999/02/22-rdf-syntax-ns#type'), rdflib.term.URIRef('http://www.w3.org/2002/07/owl#DatatypeProperty'))\n",
            "(rdflib.term.BNode('N3f7a5978d60547dfae341edc2d7369dd'), rdflib.term.URIRef('http://www.w3.org/1999/02/22-rdf-syntax-ns#type'), rdflib.term.URIRef('http://www.w3.org/2002/07/owl#Restriction'))\n",
            "(rdflib.term.URIRef('http://webprotege.stanford.edu/R7b5ubchM3AotZLmbRNl2PK'), rdflib.term.URIRef('http://www.w3.org/1999/02/22-rdf-syntax-ns#type'), rdflib.term.URIRef('http://www.w3.org/2002/07/owl#DatatypeProperty'))\n",
            "(rdflib.term.URIRef('http://webprotege.stanford.edu/R9FHP0aDstZYG7tQj1L6PLN'), rdflib.term.URIRef('http://www.w3.org/2000/01/rdf-schema#range'), rdflib.term.URIRef('http://www.w3.org/2001/XMLSchema#string'))\n",
            "(rdflib.term.URIRef('http://webprotege.stanford.edu/R9Yoa9oqAkV1EedevctkoAG'), rdflib.term.URIRef('http://www.w3.org/2000/01/rdf-schema#label'), rdflib.term.Literal('Agent_FeedBack_Detail'))\n",
            "(rdflib.term.URIRef('urn:webprotege:ontology:0adba852-419a-4efa-a399-6c734704e7b4#6548'), rdflib.term.URIRef('http://www.w3.org/1999/02/22-rdf-syntax-ns#type'), rdflib.term.URIRef('urn:webprotege:ontology:0adba852-419a-4efa-a399-6c734704e7b4#order'))\n",
            "(rdflib.term.URIRef('http://webprotege.stanford.edu/RBIiwUHb4W5kwIxFVfbFmyE'), rdflib.term.URIRef('http://www.w3.org/2000/01/rdf-schema#label'), rdflib.term.Literal('AgentName'))\n",
            "(rdflib.term.URIRef('http://webprotege.stanford.edu/RBiJjxL5TZOvMvyHTg0Uoev'), rdflib.term.URIRef('http://www.w3.org/2000/01/rdf-schema#range'), rdflib.term.URIRef('http://www.w3.org/2001/XMLSchema#string'))\n",
            "(rdflib.term.URIRef('http://webprotege.stanford.edu/RB3bPSz23JGTUBlvFUMlumm'), rdflib.term.URIRef('http://www.w3.org/2000/01/rdf-schema#domain'), rdflib.term.URIRef('http://webprotege.stanford.edu/RBPJJu8bG3vZ17Q5hA82MLh'))\n",
            "(rdflib.term.URIRef('http://webprotege.stanford.edu/R97LOWR9JP6eA0Hn04xQBmo'), rdflib.term.URIRef('http://www.w3.org/1999/02/22-rdf-syntax-ns#type'), rdflib.term.URIRef('http://www.w3.org/2002/07/owl#DatatypeProperty'))\n",
            "(rdflib.term.URIRef('http://webprotege.stanford.edu/RBiJjxL5TZOvMvyHTg0Uoev'), rdflib.term.URIRef('http://www.w3.org/2000/01/rdf-schema#label'), rdflib.term.Literal('Chat_Support'))\n",
            "(rdflib.term.URIRef('http://webprotege.stanford.edu/R9Yoa9oqAkV1EedevctkoAG'), rdflib.term.URIRef('http://www.w3.org/2000/01/rdf-schema#subPropertyOf'), rdflib.term.URIRef('http://webprotege.stanford.edu/R4RPloVPzTpqU8kcAl3Dkr'))\n",
            "(rdflib.term.URIRef('http://webprotege.stanford.edu/R85489vmFRnnjqaF2rHbfsM'), rdflib.term.URIRef('http://www.w3.org/2000/01/rdf-schema#label'), rdflib.term.Literal('Customer_ContactDetail'))\n",
            "(rdflib.term.URIRef('http://webprotege.stanford.edu/RDEcFue2m6UuIuMtuTJFZWI'), rdflib.term.URIRef('http://www.w3.org/2000/01/rdf-schema#subPropertyOf'), rdflib.term.URIRef('http://webprotege.stanford.edu/RBIF6veGOHOTBmEO0B2wvy7'))\n",
            "(rdflib.term.BNode('N17755c56163e4dc39b18d522bcf54583'), rdflib.term.URIRef('http://www.w3.org/2002/07/owl#onProperty'), rdflib.term.URIRef('http://webprotege.stanford.edu/RDN7QmWfOChJg7poCuQnDDd'))\n",
            "(rdflib.term.URIRef('http://webprotege.stanford.edu/R7x1gTVQphnPmP7A8Fpe1AX'), rdflib.term.URIRef('http://www.w3.org/2000/01/rdf-schema#subClassOf'), rdflib.term.BNode('N614bbc26433b45a281b3c91f0a2bb54e'))\n",
            "(rdflib.term.URIRef('http://webprotege.stanford.edu/RHY4VM01JHBgetRcGRxGBp'), rdflib.term.URIRef('http://www.w3.org/2000/01/rdf-schema#subPropertyOf'), rdflib.term.URIRef('http://webprotege.stanford.edu/RCPwdEdalCPmPVYPzajbTz'))\n",
            "(rdflib.term.URIRef('http://webprotege.stanford.edu/R8Z4kyqmMvO0xkBgbwaUyDa'), rdflib.term.URIRef('http://www.w3.org/2000/01/rdf-schema#range'), rdflib.term.URIRef('http://webprotege.stanford.edu/RBPJJu8bG3vZ17Q5hA82MLh'))\n",
            "(rdflib.term.URIRef('http://webprotege.stanford.edu/RLSIOBaSLwVwDNkN3Obg27'), rdflib.term.URIRef('http://www.w3.org/1999/02/22-rdf-syntax-ns#type'), rdflib.term.URIRef('http://www.w3.org/2002/07/owl#Class'))\n",
            "(rdflib.term.URIRef(\"urn:webprotege:ontology:0adba852-419a-4efa-a399-6c734704e7b4#['ButterMilk',_'70']\"), rdflib.term.URIRef('http://www.w3.org/1999/02/22-rdf-syntax-ns#type'), rdflib.term.URIRef('http://www.w3.org/2002/07/owl#NamedIndividual'))\n",
            "(rdflib.term.URIRef('http://webprotege.stanford.edu/R8loj2kfwqgkGHW7qeRYx5n'), rdflib.term.URIRef('http://www.w3.org/1999/02/22-rdf-syntax-ns#type'), rdflib.term.URIRef('http://www.w3.org/2002/07/owl#DatatypeProperty'))\n",
            "(rdflib.term.URIRef('http://webprotege.stanford.edu/RCPwdEdalCPmPVYPzajbTz'), rdflib.term.URIRef('http://www.w3.org/2000/01/rdf-schema#label'), rdflib.term.Literal('DeliveryAgentId'))\n",
            "(rdflib.term.URIRef('http://webprotege.stanford.edu/R97LOWR9JP6eA0Hn04xQBmo'), rdflib.term.URIRef('http://www.w3.org/2000/01/rdf-schema#comment'), rdflib.term.Literal('City Pincode of Customer', datatype=rdflib.term.URIRef('http://www.w3.org/2001/XMLSchema#string')))\n",
            "(rdflib.term.URIRef('http://webprotege.stanford.edu/R8EJnTHAxqTvM0df0F3lrEC'), rdflib.term.URIRef('http://www.w3.org/2000/01/rdf-schema#label'), rdflib.term.Literal('CustomerFeeds'))\n",
            "(rdflib.term.URIRef('http://webprotege.stanford.edu/RCpHJmbKiHoTsxUSiQnBGp1'), rdflib.term.URIRef('http://www.w3.org/2000/01/rdf-schema#subPropertyOf'), rdflib.term.URIRef('http://webprotege.stanford.edu/R8H3w5g9u3rddaoJUWKVeBj'))\n",
            "(rdflib.term.URIRef('http://webprotege.stanford.edu/RBI1VdgHelj7D52ByC1c4HN'), rdflib.term.URIRef('http://www.w3.org/2000/01/rdf-schema#label'), rdflib.term.Literal('PaidTo'))\n",
            "(rdflib.term.URIRef('http://webprotege.stanford.edu/R8xGJscgCZStVuvxTHYbswK'), rdflib.term.URIRef('http://www.w3.org/1999/02/22-rdf-syntax-ns#type'), rdflib.term.URIRef('http://www.w3.org/2002/07/owl#DatatypeProperty'))\n",
            "(rdflib.term.URIRef('http://webprotege.stanford.edu/RZbHPRaWRMAdcuf6Q2OgVI'), rdflib.term.URIRef('http://www.w3.org/2000/01/rdf-schema#comment'), rdflib.term.Literal('Restaurant Main Address detail', datatype=rdflib.term.URIRef('http://www.w3.org/2001/XMLSchema#string')))\n",
            "(rdflib.term.URIRef('http://webprotege.stanford.edu/R8DEzXH7pOqwB33gBYEDEDJ'), rdflib.term.URIRef('http://www.w3.org/2000/01/rdf-schema#subClassOf'), rdflib.term.BNode('N406bb6b482994321a9e765ccadc40503'))\n",
            "(rdflib.term.URIRef('http://webprotege.stanford.edu/R7ytJx3wwwUiUmLJSIbe96A'), rdflib.term.URIRef('http://www.w3.org/2000/01/rdf-schema#label'), rdflib.term.Literal('RestaurantFeeds', datatype=rdflib.term.URIRef('http://www.w3.org/2001/XMLSchema#string')))\n",
            "(rdflib.term.URIRef('http://webprotege.stanford.edu/R9LCjoXsvKLuhqzvk93dsPF'), rdflib.term.URIRef('http://www.w3.org/2000/01/rdf-schema#subPropertyOf'), rdflib.term.URIRef('http://webprotege.stanford.edu/R85489vmFRnnjqaF2rHbfsM'))\n",
            "(rdflib.term.BNode('N17755c56163e4dc39b18d522bcf54583'), rdflib.term.URIRef('http://www.w3.org/2002/07/owl#someValuesFrom'), rdflib.term.URIRef('http://webprotege.stanford.edu/R8x5ufVivKG7njIRoqA1BHJ'))\n",
            "(rdflib.term.URIRef('http://webprotege.stanford.edu/R9YJMmAVuPxPgcaGt2yfHS2'), rdflib.term.URIRef('http://www.w3.org/2000/01/rdf-schema#label'), rdflib.term.Literal('PaymentStatus'))\n",
            "(rdflib.term.URIRef('http://webprotege.stanford.edu/RBIF6veGOHOTBmEO0B2wvy7'), rdflib.term.URIRef('http://www.w3.org/2000/01/rdf-schema#range'), rdflib.term.URIRef('http://www.w3.org/2001/XMLSchema#string'))\n",
            "(rdflib.term.URIRef('http://webprotege.stanford.edu/R8EJnTHAxqTvM0df0F3lrEC'), rdflib.term.URIRef('http://www.w3.org/2000/01/rdf-schema#subPropertyOf'), rdflib.term.URIRef('http://webprotege.stanford.edu/R7AAcDk7WeUxIKeQ1PIKKr'))\n",
            "(rdflib.term.URIRef('http://webprotege.stanford.edu/RBiJjxL5TZOvMvyHTg0Uoev'), rdflib.term.URIRef('http://www.w3.org/1999/02/22-rdf-syntax-ns#type'), rdflib.term.URIRef('http://www.w3.org/2002/07/owl#DatatypeProperty'))\n",
            "(rdflib.term.URIRef('http://webprotege.stanford.edu/R8DEzXH7pOqwB33gBYEDEDJ'), rdflib.term.URIRef('http://www.w3.org/2000/01/rdf-schema#subClassOf'), rdflib.term.BNode('Nb5d6aa878c364cef96543643b3a1f98e'))\n",
            "(rdflib.term.URIRef('http://webprotege.stanford.edu/RDN7QmWfOChJg7poCuQnDDd'), rdflib.term.URIRef('http://www.w3.org/2000/01/rdf-schema#range'), rdflib.term.URIRef('http://webprotege.stanford.edu/R8x5ufVivKG7njIRoqA1BHJ'))\n",
            "(rdflib.term.URIRef('http://webprotege.stanford.edu/R7JTfuKzSs0v11t1rDC3M58'), rdflib.term.URIRef('http://www.w3.org/2000/01/rdf-schema#range'), rdflib.term.URIRef('http://www.w3.org/2001/XMLSchema#string'))\n",
            "(rdflib.term.URIRef('http://webprotege.stanford.edu/RDb7amnSUHVG3PlShcsTcAn'), rdflib.term.URIRef('http://www.w3.org/2000/01/rdf-schema#domain'), rdflib.term.URIRef('http://webprotege.stanford.edu/RDqmr5cwi1Y8zAWPL4pyE2H'))\n",
            "(rdflib.term.URIRef('http://webprotege.stanford.edu/R7tBnWkkWGK0LKps9niEyBB'), rdflib.term.URIRef('http://www.w3.org/2000/01/rdf-schema#range'), rdflib.term.URIRef('http://www.w3.org/2001/XMLSchema#string'))\n",
            "(rdflib.term.URIRef('http://webprotege.stanford.edu/R9YJMmAVuPxPgcaGt2yfHS2'), rdflib.term.URIRef('http://www.w3.org/2000/01/rdf-schema#range'), rdflib.term.URIRef('http://www.w3.org/2001/XMLSchema#string'))\n",
            "(rdflib.term.URIRef('http://webprotege.stanford.edu/RDVoPhXEHLgnJFRqGhz0g4u'), rdflib.term.URIRef('http://www.w3.org/2000/01/rdf-schema#range'), rdflib.term.URIRef('http://webprotege.stanford.edu/RBWH4XAJd1hhI2jkD6XpB29'))\n",
            "(rdflib.term.URIRef('http://webprotege.stanford.edu/RBC6FgHzL4npHR0jd0BLdj7'), rdflib.term.URIRef('http://www.w3.org/2000/01/rdf-schema#label'), rdflib.term.Literal('DeliveryAgentFeeds', datatype=rdflib.term.URIRef('http://www.w3.org/2001/XMLSchema#string')))\n",
            "(rdflib.term.URIRef('http://webprotege.stanford.edu/RBbspCC1EXO2JZpSTpuFUVK'), rdflib.term.URIRef('http://www.w3.org/1999/02/22-rdf-syntax-ns#type'), rdflib.term.URIRef('http://www.w3.org/2002/07/owl#Class'))\n",
            "(rdflib.term.URIRef('http://webprotege.stanford.edu/RCxcwc6pNzvLCbbWld21vD'), rdflib.term.URIRef('http://www.w3.org/2000/01/rdf-schema#domain'), rdflib.term.URIRef('http://webprotege.stanford.edu/R7x1gTVQphnPmP7A8Fpe1AX'))\n",
            "(rdflib.term.URIRef('urn:webprotege:ontology:0adba852-419a-4efa-a399-6c734704e7b4#Chicken_Rolls,Lime_Juice'), rdflib.term.URIRef('http://www.w3.org/1999/02/22-rdf-syntax-ns#type'), rdflib.term.URIRef('http://www.w3.org/2002/07/owl#NamedIndividual'))\n",
            "(rdflib.term.URIRef('http://webprotege.stanford.edu/R85489vmFRnnjqaF2rHbfsM'), rdflib.term.URIRef('http://www.w3.org/1999/02/22-rdf-syntax-ns#type'), rdflib.term.URIRef('http://www.w3.org/2002/07/owl#DatatypeProperty'))\n",
            "(rdflib.term.BNode('N8e5484aadeaf4ab3a98d43e74a9ff712'), rdflib.term.URIRef('http://www.w3.org/1999/02/22-rdf-syntax-ns#type'), rdflib.term.URIRef('http://www.w3.org/2002/07/owl#Restriction'))\n",
            "(rdflib.term.URIRef('http://webprotege.stanford.edu/RZbHPRaWRMAdcuf6Q2OgVI'), rdflib.term.URIRef('http://www.w3.org/1999/02/22-rdf-syntax-ns#type'), rdflib.term.URIRef('http://www.w3.org/2002/07/owl#DatatypeProperty'))\n",
            "(rdflib.term.URIRef('http://webprotege.stanford.edu/R85sPYK3R6YLuLztyelovCj'), rdflib.term.URIRef('http://www.w3.org/1999/02/22-rdf-syntax-ns#type'), rdflib.term.URIRef('http://www.w3.org/2002/07/owl#DatatypeProperty'))\n",
            "(rdflib.term.URIRef('http://webprotege.stanford.edu/RCWuxUrDSBmQAm7eNmWrO6M'), rdflib.term.URIRef('http://www.w3.org/2000/01/rdf-schema#label'), rdflib.term.Literal('RestaurantName'))\n",
            "(rdflib.term.URIRef('urn:webprotege:ontology:0adba852-419a-4efa-a399-6c734704e7b4#Mayank_Jain'), rdflib.term.URIRef('http://www.w3.org/1999/02/22-rdf-syntax-ns#type'), rdflib.term.URIRef('urn:webprotege:ontology:0adba852-419a-4efa-a399-6c734704e7b4#Customer'))\n",
            "(rdflib.term.URIRef('http://webprotege.stanford.edu/RBIF6veGOHOTBmEO0B2wvy7'), rdflib.term.URIRef('http://www.w3.org/2000/01/rdf-schema#subPropertyOf'), rdflib.term.URIRef('http://webprotege.stanford.edu/R8xGJscgCZStVuvxTHYbswK'))\n",
            "(rdflib.term.URIRef('urn:webprotege:ontology:0adba852-419a-4efa-a399-6c734704e7b4#560212'), rdflib.term.URIRef('http://www.w3.org/1999/02/22-rdf-syntax-ns#type'), rdflib.term.URIRef('urn:webprotege:ontology:0adba852-419a-4efa-a399-6c734704e7b4#Customer'))\n",
            "(rdflib.term.URIRef('http://webprotege.stanford.edu/R9LYFTRKtKWQytBOUTzI1Nj'), rdflib.term.URIRef('http://www.w3.org/2000/01/rdf-schema#label'), rdflib.term.Literal('FeedBackTo'))\n",
            "(rdflib.term.URIRef('http://webprotege.stanford.edu/R7iNKiSWVkt70AUZiRep7NZ'), rdflib.term.URIRef('http://www.w3.org/2000/01/rdf-schema#label'), rdflib.term.Literal('Restaurant'))\n",
            "(rdflib.term.URIRef('http://webprotege.stanford.edu/RDqmr5cwi1Y8zAWPL4pyE2H'), rdflib.term.URIRef('http://www.w3.org/2000/01/rdf-schema#label'), rdflib.term.Literal('Orders'))\n",
            "(rdflib.term.URIRef('http://webprotege.stanford.edu/RB4FElvrnxm8fyZSTOhzzG'), rdflib.term.URIRef('http://www.w3.org/2000/01/rdf-schema#range'), rdflib.term.URIRef('http://webprotege.stanford.edu/RBPJJu8bG3vZ17Q5hA82MLh'))\n",
            "(rdflib.term.URIRef('http://webprotege.stanford.edu/R9Yoa9oqAkV1EedevctkoAG'), rdflib.term.URIRef('http://www.w3.org/1999/02/22-rdf-syntax-ns#type'), rdflib.term.URIRef('http://www.w3.org/2002/07/owl#DatatypeProperty'))\n",
            "(rdflib.term.URIRef('http://webprotege.stanford.edu/R7pF0dVPd7pGsHUu2rqvdcV'), rdflib.term.URIRef('http://www.w3.org/2000/01/rdf-schema#comment'), rdflib.term.Literal('Restaurant Email ID', datatype=rdflib.term.URIRef('http://www.w3.org/2001/XMLSchema#string')))\n",
            "(rdflib.term.URIRef('http://webprotege.stanford.edu/RCwfhCqKf1QhFsZHpu3tBuy'), rdflib.term.URIRef('http://www.w3.org/2000/01/rdf-schema#range'), rdflib.term.URIRef('http://www.w3.org/2001/XMLSchema#string'))\n",
            "(rdflib.term.URIRef('http://webprotege.stanford.edu/R85sPYK3R6YLuLztyelovCj'), rdflib.term.URIRef('http://www.w3.org/2000/01/rdf-schema#domain'), rdflib.term.URIRef('http://webprotege.stanford.edu/RC0D8tpmGHzAw2GRuI5O54L'))\n",
            "(rdflib.term.BNode('N63333de5e0634408bda3c51fe5f7098a'), rdflib.term.URIRef('http://www.w3.org/2002/07/owl#someValuesFrom'), rdflib.term.URIRef('http://webprotege.stanford.edu/R7iNKiSWVkt70AUZiRep7NZ'))\n",
            "(rdflib.term.URIRef('http://webprotege.stanford.edu/R7pF0dVPd7pGsHUu2rqvdcV'), rdflib.term.URIRef('http://www.w3.org/2000/01/rdf-schema#label'), rdflib.term.Literal('Restaurant_Email'))\n",
            "(rdflib.term.URIRef('http://webprotege.stanford.edu/RBPJJu8bG3vZ17Q5hA82MLh'), rdflib.term.URIRef('http://www.w3.org/2000/01/rdf-schema#subClassOf'), rdflib.term.BNode('Nd13da6bdbc504e5284b8e3bffbd6e0c7'))\n",
            "(rdflib.term.URIRef('http://webprotege.stanford.edu/R8sgFHS86nROr9qyH6fsjNu'), rdflib.term.URIRef('http://www.w3.org/2000/01/rdf-schema#range'), rdflib.term.URIRef('http://webprotege.stanford.edu/RDe4s6AGSFCVZNYcBp3qL4P'))\n",
            "(rdflib.term.URIRef('http://webprotege.stanford.edu/RB3bPSz23JGTUBlvFUMlumm'), rdflib.term.URIRef('http://www.w3.org/2000/01/rdf-schema#range'), rdflib.term.URIRef('http://webprotege.stanford.edu/R8x5ufVivKG7njIRoqA1BHJ'))\n",
            "(rdflib.term.URIRef('http://webprotege.stanford.edu/RCgxBQuGy9Uq4hNLV8GCPtx'), rdflib.term.URIRef('http://www.w3.org/2000/01/rdf-schema#domain'), rdflib.term.URIRef('http://webprotege.stanford.edu/RBPJJu8bG3vZ17Q5hA82MLh'))\n",
            "(rdflib.term.URIRef('http://webprotege.stanford.edu/R8loj2kfwqgkGHW7qeRYx5n'), rdflib.term.URIRef('http://www.w3.org/2000/01/rdf-schema#comment'), rdflib.term.Literal('Total Order Amount', datatype=rdflib.term.URIRef('http://www.w3.org/2001/XMLSchema#string')))\n",
            "(rdflib.term.BNode('Ndbda53aa9694472fa797724f6ab77e82'), rdflib.term.URIRef('http://www.w3.org/2002/07/owl#onProperty'), rdflib.term.URIRef('http://webprotege.stanford.edu/RDJwqz3tVzMNl35Ytk2jRw5'))\n",
            "(rdflib.term.URIRef('http://webprotege.stanford.edu/R8tV1XfEH6y8CKUsXL9tW2x'), rdflib.term.URIRef('http://www.w3.org/1999/02/22-rdf-syntax-ns#type'), rdflib.term.URIRef('http://www.w3.org/2002/07/owl#DatatypeProperty'))\n",
            "(rdflib.term.URIRef('urn:webprotege:ontology:0adba852-419a-4efa-a399-6c734704e7b4#Karnataka'), rdflib.term.URIRef('http://www.w3.org/1999/02/22-rdf-syntax-ns#type'), rdflib.term.URIRef('urn:webprotege:ontology:0adba852-419a-4efa-a399-6c734704e7b4#Customer'))\n",
            "(rdflib.term.URIRef('http://webprotege.stanford.edu/RDN7QmWfOChJg7poCuQnDDd'), rdflib.term.URIRef('http://www.w3.org/2000/01/rdf-schema#range'), rdflib.term.URIRef('http://webprotege.stanford.edu/Rnuq3FpyJU1vQy6pPhU9oG'))\n",
            "(rdflib.term.BNode('Nd13da6bdbc504e5284b8e3bffbd6e0c7'), rdflib.term.URIRef('http://www.w3.org/2002/07/owl#onProperty'), rdflib.term.URIRef('http://webprotege.stanford.edu/RDVoPhXEHLgnJFRqGhz0g4u'))\n",
            "(rdflib.term.URIRef('http://webprotege.stanford.edu/RCpHJmbKiHoTsxUSiQnBGp1'), rdflib.term.URIRef('http://www.w3.org/2000/01/rdf-schema#comment'), rdflib.term.Literal('Restaurant Phone No.', datatype=rdflib.term.URIRef('http://www.w3.org/2001/XMLSchema#string')))\n",
            "(rdflib.term.URIRef('urn:webprotege:ontology:0adba852-419a-4efa-a399-6c734704e7b4#mayank@ybl'), rdflib.term.URIRef('http://www.w3.org/1999/02/22-rdf-syntax-ns#type'), rdflib.term.URIRef('urn:webprotege:ontology:0adba852-419a-4efa-a399-6c734704e7b4#Payment'))\n",
            "(rdflib.term.URIRef('http://webprotege.stanford.edu/R8sgFHS86nROr9qyH6fsjNu'), rdflib.term.URIRef('http://www.w3.org/2000/01/rdf-schema#label'), rdflib.term.Literal('Use'))\n",
            "(rdflib.term.URIRef('http://webprotege.stanford.edu/RnjoElGXqkcfbspdq6zjxg'), rdflib.term.URIRef('http://www.w3.org/2000/01/rdf-schema#subPropertyOf'), rdflib.term.URIRef('http://webprotege.stanford.edu/R8xGJscgCZStVuvxTHYbswK'))\n",
            "(rdflib.term.URIRef('http://webprotege.stanford.edu/R7x1gTVQphnPmP7A8Fpe1AX'), rdflib.term.URIRef('http://www.w3.org/2000/01/rdf-schema#subClassOf'), rdflib.term.BNode('N6fc87fd2bbb04ab0ae37d65cab099409'))\n",
            "(rdflib.term.URIRef('http://webprotege.stanford.edu/R97LOWR9JP6eA0Hn04xQBmo'), rdflib.term.URIRef('http://www.w3.org/2000/01/rdf-schema#label'), rdflib.term.Literal('Pincode'))\n",
            "(rdflib.term.URIRef('http://webprotege.stanford.edu/R9YJMmAVuPxPgcaGt2yfHS2'), rdflib.term.URIRef('http://www.w3.org/2000/01/rdf-schema#comment'), rdflib.term.Literal('status like \"Failed\"/\"Successful\"/', datatype=rdflib.term.URIRef('http://www.w3.org/2001/XMLSchema#string')))\n",
            "(rdflib.term.URIRef('http://webprotege.stanford.edu/R8Z4kyqmMvO0xkBgbwaUyDa'), rdflib.term.URIRef('http://www.w3.org/2000/01/rdf-schema#label'), rdflib.term.Literal('DeliversTo'))\n",
            "(rdflib.term.URIRef('http://webprotege.stanford.edu/RDWF0IJHEMa7qhkTpP2icxs'), rdflib.term.URIRef('http://www.w3.org/2000/01/rdf-schema#subClassOf'), rdflib.term.URIRef('http://webprotege.stanford.edu/R8DEzXH7pOqwB33gBYEDEDJ'))\n",
            "(rdflib.term.URIRef('http://webprotege.stanford.edu/R85sPYK3R6YLuLztyelovCj'), rdflib.term.URIRef('http://www.w3.org/2000/01/rdf-schema#label'), rdflib.term.Literal('VegMenuContent'))\n",
            "(rdflib.term.BNode('Nb0b145a050a0465495e716a138d76a71'), rdflib.term.URIRef('http://www.w3.org/1999/02/22-rdf-syntax-ns#type'), rdflib.term.URIRef('http://www.w3.org/2002/07/owl#Restriction'))\n",
            "(rdflib.term.URIRef('http://webprotege.stanford.edu/R9Yoa9oqAkV1EedevctkoAG'), rdflib.term.URIRef('http://www.w3.org/2000/01/rdf-schema#range'), rdflib.term.URIRef('http://www.w3.org/2001/XMLSchema#string'))\n",
            "(rdflib.term.URIRef('http://webprotege.stanford.edu/R9LCjoXsvKLuhqzvk93dsPF'), rdflib.term.URIRef('http://www.w3.org/2000/01/rdf-schema#range'), rdflib.term.URIRef('http://www.w3.org/2001/XMLSchema#string'))\n",
            "(rdflib.term.BNode('N1ba31d1b1f1c49b3bbb4a4bf1d2d566a'), rdflib.term.URIRef('http://www.w3.org/1999/02/22-rdf-syntax-ns#type'), rdflib.term.URIRef('http://www.w3.org/2002/07/owl#Restriction'))\n",
            "(rdflib.term.BNode('N0dc53fb93b0444e790d0817fd89813d7'), rdflib.term.URIRef('http://www.w3.org/2002/07/owl#onProperty'), rdflib.term.URIRef('http://webprotege.stanford.edu/RDVoPhXEHLgnJFRqGhz0g4u'))\n",
            "(rdflib.term.URIRef('http://webprotege.stanford.edu/R7b5ubchM3AotZLmbRNl2PK'), rdflib.term.URIRef('http://www.w3.org/2000/01/rdf-schema#label'), rdflib.term.Literal('Customer_FeedBack_Detail', datatype=rdflib.term.URIRef('http://www.w3.org/2001/XMLSchema#string')))\n",
            "(rdflib.term.URIRef('http://webprotege.stanford.edu/RBPJJu8bG3vZ17Q5hA82MLh'), rdflib.term.URIRef('http://www.w3.org/1999/02/22-rdf-syntax-ns#type'), rdflib.term.URIRef('http://www.w3.org/2002/07/owl#Class'))\n",
            "(rdflib.term.URIRef('http://webprotege.stanford.edu/R7tBnWkkWGK0LKps9niEyBB'), rdflib.term.URIRef('http://www.w3.org/2000/01/rdf-schema#comment'), rdflib.term.Literal('List of all the drinks available', datatype=rdflib.term.URIRef('http://www.w3.org/2001/XMLSchema#string')))\n",
            "(rdflib.term.URIRef('urn:webprotege:ontology:0adba852-419a-4efa-a399-6c734704e7b4#Bangalore'), rdflib.term.URIRef('http://www.w3.org/1999/02/22-rdf-syntax-ns#type'), rdflib.term.URIRef('http://www.w3.org/2002/07/owl#NamedIndividual'))\n",
            "(rdflib.term.URIRef('http://webprotege.stanford.edu/RCpHJmbKiHoTsxUSiQnBGp1'), rdflib.term.URIRef('http://www.w3.org/2000/01/rdf-schema#range'), rdflib.term.URIRef('http://www.w3.org/2001/XMLSchema#string'))\n",
            "(rdflib.term.URIRef('http://webprotege.stanford.edu/RipSkDwyh1dVcjXqx8HTwp'), rdflib.term.URIRef('http://www.w3.org/1999/02/22-rdf-syntax-ns#type'), rdflib.term.URIRef('http://www.w3.org/2002/07/owl#DatatypeProperty'))\n",
            "(rdflib.term.URIRef('http://webprotege.stanford.edu/R7JTfuKzSs0v11t1rDC3M58'), rdflib.term.URIRef('http://www.w3.org/2000/01/rdf-schema#subPropertyOf'), rdflib.term.URIRef('http://webprotege.stanford.edu/R4RPloVPzTpqU8kcAl3Dkr'))\n",
            "(rdflib.term.URIRef('http://webprotege.stanford.edu/R8tV1XfEH6y8CKUsXL9tW2x'), rdflib.term.URIRef('http://www.w3.org/2000/01/rdf-schema#range'), rdflib.term.URIRef('http://www.w3.org/2001/XMLSchema#string'))\n",
            "(rdflib.term.BNode('N8e5484aadeaf4ab3a98d43e74a9ff712'), rdflib.term.URIRef('http://www.w3.org/2002/07/owl#someValuesFrom'), rdflib.term.URIRef('http://webprotege.stanford.edu/RBWH4XAJd1hhI2jkD6XpB29'))\n",
            "(rdflib.term.BNode('N6f5f9aee6d124ae98b7452661ebf9fd8'), rdflib.term.URIRef('http://www.w3.org/2002/07/owl#someValuesFrom'), rdflib.term.URIRef('http://webprotege.stanford.edu/RBPJJu8bG3vZ17Q5hA82MLh'))\n",
            "(rdflib.term.BNode('Ndbda53aa9694472fa797724f6ab77e82'), rdflib.term.URIRef('http://www.w3.org/2002/07/owl#someValuesFrom'), rdflib.term.URIRef('http://webprotege.stanford.edu/R8DEzXH7pOqwB33gBYEDEDJ'))\n",
            "(rdflib.term.URIRef('http://webprotege.stanford.edu/RDqmr5cwi1Y8zAWPL4pyE2H'), rdflib.term.URIRef('http://www.w3.org/2000/01/rdf-schema#subClassOf'), rdflib.term.URIRef('http://webprotege.stanford.edu/R8DEzXH7pOqwB33gBYEDEDJ'))\n",
            "(rdflib.term.URIRef('urn:webprotege:ontology:0adba852-419a-4efa-a399-6c734704e7b4#Karnataka'), rdflib.term.URIRef('http://www.w3.org/1999/02/22-rdf-syntax-ns#type'), rdflib.term.URIRef('http://www.w3.org/2002/07/owl#NamedIndividual'))\n",
            "(rdflib.term.URIRef('http://webprotege.stanford.edu/RBLCZ1qATHZq7GoWq7iXTzD'), rdflib.term.URIRef('http://www.w3.org/2000/01/rdf-schema#subClassOf'), rdflib.term.URIRef('http://webprotege.stanford.edu/R8DEzXH7pOqwB33gBYEDEDJ'))\n",
            "(rdflib.term.URIRef('http://webprotege.stanford.edu/RDb7amnSUHVG3PlShcsTcAn'), rdflib.term.URIRef('http://www.w3.org/2000/01/rdf-schema#subPropertyOf'), rdflib.term.URIRef('http://www.w3.org/2002/07/owl#topDataProperty'))\n",
            "(rdflib.term.URIRef('urn:webprotege:ontology:0adba852-419a-4efa-a399-6c734704e7b4#mayank@ybl'), rdflib.term.URIRef('http://www.w3.org/1999/02/22-rdf-syntax-ns#type'), rdflib.term.URIRef('http://www.w3.org/2002/07/owl#NamedIndividual'))\n",
            "(rdflib.term.URIRef('http://webprotege.stanford.edu/RCUteHB5v3toxEO0btAOLDF'), rdflib.term.URIRef('http://www.w3.org/1999/02/22-rdf-syntax-ns#type'), rdflib.term.URIRef('http://www.w3.org/2002/07/owl#ObjectProperty'))\n",
            "(rdflib.term.URIRef('http://webprotege.stanford.edu/RCB2KdWsdAQ7QsvIwQrALUZ'), rdflib.term.URIRef('http://www.w3.org/2000/01/rdf-schema#range'), rdflib.term.URIRef('http://webprotege.stanford.edu/RBWH4XAJd1hhI2jkD6XpB29'))\n",
            "(rdflib.term.URIRef('http://webprotege.stanford.edu/R7b5ubchM3AotZLmbRNl2PK'), rdflib.term.URIRef('http://www.w3.org/2000/01/rdf-schema#comment'), rdflib.term.Literal('Detailed Customer Feddback by Delivery Agent', datatype=rdflib.term.URIRef('http://www.w3.org/2001/XMLSchema#string')))\n",
            "(rdflib.term.BNode('N11dfa494cfea4dbb8b174e69fda4e882'), rdflib.term.URIRef('http://www.w3.org/1999/02/22-rdf-syntax-ns#type'), rdflib.term.URIRef('http://www.w3.org/2002/07/owl#Restriction'))\n",
            "(rdflib.term.URIRef('http://webprotege.stanford.edu/R7pF0dVPd7pGsHUu2rqvdcV'), rdflib.term.URIRef('http://www.w3.org/2000/01/rdf-schema#subPropertyOf'), rdflib.term.URIRef('http://webprotege.stanford.edu/R8H3w5g9u3rddaoJUWKVeBj'))\n",
            "(rdflib.term.URIRef('http://webprotege.stanford.edu/R8DEzXH7pOqwB33gBYEDEDJ'), rdflib.term.URIRef('http://www.w3.org/1999/02/22-rdf-syntax-ns#type'), rdflib.term.URIRef('http://www.w3.org/2002/07/owl#Class'))\n",
            "(rdflib.term.URIRef('urn:webprotege:ontology:0adba852-419a-4efa-a399-6c734704e7b4#789'), rdflib.term.URIRef('http://www.w3.org/1999/02/22-rdf-syntax-ns#type'), rdflib.term.URIRef('urn:webprotege:ontology:0adba852-419a-4efa-a399-6c734704e7b4#Payment'))\n",
            "(rdflib.term.URIRef('http://webprotege.stanford.edu/RDJwqz3tVzMNl35Ytk2jRw5'), rdflib.term.URIRef('http://www.w3.org/2000/01/rdf-schema#label'), rdflib.term.Literal('ProvideAgent'))\n",
            "(rdflib.term.URIRef(\"urn:webprotege:ontology:0adba852-419a-4efa-a399-6c734704e7b4#['Beer',_'150']\"), rdflib.term.URIRef('http://www.w3.org/1999/02/22-rdf-syntax-ns#type'), rdflib.term.URIRef('urn:webprotege:ontology:0adba852-419a-4efa-a399-6c734704e7b4#Rmenu/Drinks/item'))\n",
            "(rdflib.term.URIRef('http://webprotege.stanford.edu/RBIiwUHb4W5kwIxFVfbFmyE'), rdflib.term.URIRef('http://www.w3.org/2000/01/rdf-schema#subPropertyOf'), rdflib.term.URIRef('http://webprotege.stanford.edu/RCPwdEdalCPmPVYPzajbTz'))\n",
            "(rdflib.term.URIRef('http://webprotege.stanford.edu/RDEcFue2m6UuIuMtuTJFZWI'), rdflib.term.URIRef('http://www.w3.org/2000/01/rdf-schema#comment'), rdflib.term.Literal('Restaurant Rating By Customer(1-5)', datatype=rdflib.term.URIRef('http://www.w3.org/2001/XMLSchema#string')))\n",
            "(rdflib.term.URIRef('http://webprotege.stanford.edu/RmVaYeNa44s6i7uXCAVhX9'), rdflib.term.URIRef('http://www.w3.org/2000/01/rdf-schema#range'), rdflib.term.URIRef('http://www.w3.org/2001/XMLSchema#string'))\n",
            "(rdflib.term.URIRef('http://webprotege.stanford.edu/R97LOWR9JP6eA0Hn04xQBmo'), rdflib.term.URIRef('http://www.w3.org/2000/01/rdf-schema#comment'), rdflib.term.Literal(\"Restaurant city's Pin code\", datatype=rdflib.term.URIRef('http://www.w3.org/2001/XMLSchema#string')))\n",
            "(rdflib.term.URIRef('http://webprotege.stanford.edu/RDqmr5cwi1Y8zAWPL4pyE2H'), rdflib.term.URIRef('http://www.w3.org/1999/02/22-rdf-syntax-ns#type'), rdflib.term.URIRef('http://www.w3.org/2002/07/owl#Class'))\n",
            "(rdflib.term.URIRef('http://webprotege.stanford.edu/RRHO82jDSvMExgK5IxjTRI'), rdflib.term.URIRef('http://www.w3.org/1999/02/22-rdf-syntax-ns#type'), rdflib.term.URIRef('http://www.w3.org/2002/07/owl#ObjectProperty'))\n",
            "(rdflib.term.URIRef('http://webprotege.stanford.edu/R7AAcDk7WeUxIKeQ1PIKKr'), rdflib.term.URIRef('http://www.w3.org/2000/01/rdf-schema#subPropertyOf'), rdflib.term.URIRef('http://www.w3.org/2002/07/owl#topDataProperty'))\n",
            "(rdflib.term.URIRef('http://webprotege.stanford.edu/RBLCZ1qATHZq7GoWq7iXTzD'), rdflib.term.URIRef('http://www.w3.org/2000/01/rdf-schema#label'), rdflib.term.Literal('Support'))\n",
            "(rdflib.term.URIRef('http://webprotege.stanford.edu/R85489vmFRnnjqaF2rHbfsM'), rdflib.term.URIRef('http://www.w3.org/2000/01/rdf-schema#subPropertyOf'), rdflib.term.URIRef('http://webprotege.stanford.edu/R7AAcDk7WeUxIKeQ1PIKKr'))\n",
            "(rdflib.term.URIRef('http://webprotege.stanford.edu/R4RPloVPzTpqU8kcAl3Dkr'), rdflib.term.URIRef('http://www.w3.org/2000/01/rdf-schema#range'), rdflib.term.URIRef('http://www.w3.org/2001/XMLSchema#string'))\n",
            "(rdflib.term.URIRef('http://webprotege.stanford.edu/RCpHJmbKiHoTsxUSiQnBGp1'), rdflib.term.URIRef('http://www.w3.org/2000/01/rdf-schema#label'), rdflib.term.Literal('Phone_No.'))\n",
            "(rdflib.term.URIRef('http://webprotege.stanford.edu/RZbHPRaWRMAdcuf6Q2OgVI'), rdflib.term.URIRef('http://www.w3.org/2000/01/rdf-schema#label'), rdflib.term.Literal('Address_Detail'))\n",
            "(rdflib.term.URIRef('http://webprotege.stanford.edu/RCzBgbHD7Vm5O3jVE4ntGLZ'), rdflib.term.URIRef('http://www.w3.org/2000/01/rdf-schema#comment'), rdflib.term.Literal('Call Support Details', datatype=rdflib.term.URIRef('http://www.w3.org/2001/XMLSchema#string')))\n",
            "(rdflib.term.BNode('N11dfa494cfea4dbb8b174e69fda4e882'), rdflib.term.URIRef('http://www.w3.org/2002/07/owl#someValuesFrom'), rdflib.term.URIRef('http://webprotege.stanford.edu/R7iNKiSWVkt70AUZiRep7NZ'))\n",
            "(rdflib.term.BNode('N2871bfd59be044b8b780b3d5d787c84d'), rdflib.term.URIRef('http://www.w3.org/1999/02/22-rdf-syntax-ns#type'), rdflib.term.URIRef('http://www.w3.org/2002/07/owl#Restriction'))\n",
            "(rdflib.term.URIRef('http://webprotege.stanford.edu/RDVoPhXEHLgnJFRqGhz0g4u'), rdflib.term.URIRef('http://www.w3.org/2000/01/rdf-schema#label'), rdflib.term.Literal('ReviewedTo'))\n",
            "(rdflib.term.URIRef('http://webprotege.stanford.edu/RBI1VdgHelj7D52ByC1c4HN'), rdflib.term.URIRef('http://www.w3.org/2000/01/rdf-schema#domain'), rdflib.term.URIRef('http://webprotege.stanford.edu/R8DEzXH7pOqwB33gBYEDEDJ'))\n",
            "(rdflib.term.URIRef('http://webprotege.stanford.edu/RBC6FgHzL4npHR0jd0BLdj7'), rdflib.term.URIRef('http://www.w3.org/2000/01/rdf-schema#subClassOf'), rdflib.term.URIRef('http://webprotege.stanford.edu/R8t7xwYZ66IWwGtQ4whppVw'))\n",
            "(rdflib.term.URIRef('http://webprotege.stanford.edu/RBiJjxL5TZOvMvyHTg0Uoev'), rdflib.term.URIRef('http://www.w3.org/2000/01/rdf-schema#subPropertyOf'), rdflib.term.URIRef('http://webprotege.stanford.edu/RCwfhCqKf1QhFsZHpu3tBuy'))\n",
            "(rdflib.term.URIRef('http://webprotege.stanford.edu/RBI1VdgHelj7D52ByC1c4HN'), rdflib.term.URIRef('http://www.w3.org/2000/01/rdf-schema#range'), rdflib.term.URIRef('http://webprotege.stanford.edu/R7iNKiSWVkt70AUZiRep7NZ'))\n",
            "(rdflib.term.BNode('N0dc53fb93b0444e790d0817fd89813d7'), rdflib.term.URIRef('http://www.w3.org/1999/02/22-rdf-syntax-ns#type'), rdflib.term.URIRef('http://www.w3.org/2002/07/owl#Restriction'))\n",
            "(rdflib.term.BNode('N614bbc26433b45a281b3c91f0a2bb54e'), rdflib.term.URIRef('http://www.w3.org/2002/07/owl#someValuesFrom'), rdflib.term.URIRef('http://webprotege.stanford.edu/RBLCZ1qATHZq7GoWq7iXTzD'))\n",
            "(rdflib.term.URIRef('http://webprotege.stanford.edu/R87pNLROGFWrF5olpADehgz'), rdflib.term.URIRef('http://www.w3.org/2000/01/rdf-schema#label'), rdflib.term.Literal('Customer_Rating'))\n",
            "(rdflib.term.URIRef('http://webprotege.stanford.edu/RCwfhCqKf1QhFsZHpu3tBuy'), rdflib.term.URIRef('http://www.w3.org/1999/02/22-rdf-syntax-ns#type'), rdflib.term.URIRef('http://www.w3.org/2002/07/owl#DatatypeProperty'))\n",
            "(rdflib.term.URIRef('http://webprotege.stanford.edu/R9FHP0aDstZYG7tQj1L6PLN'), rdflib.term.URIRef('http://www.w3.org/2000/01/rdf-schema#label'), rdflib.term.Literal('NonVegMenuContent'))\n",
            "(rdflib.term.URIRef('http://webprotege.stanford.edu/RBPJJu8bG3vZ17Q5hA82MLh'), rdflib.term.URIRef('http://www.w3.org/2000/01/rdf-schema#subClassOf'), rdflib.term.URIRef('http://webprotege.stanford.edu/RBXNCFeJ8XWf798gOcnkVzw'))\n",
            "(rdflib.term.URIRef('http://webprotege.stanford.edu/R8xGJscgCZStVuvxTHYbswK'), rdflib.term.URIRef('http://www.w3.org/2000/01/rdf-schema#subPropertyOf'), rdflib.term.URIRef('http://www.w3.org/2002/07/owl#topDataProperty'))\n",
            "(rdflib.term.URIRef('http://webprotege.stanford.edu/R8xGJscgCZStVuvxTHYbswK'), rdflib.term.URIRef('http://www.w3.org/2000/01/rdf-schema#domain'), rdflib.term.URIRef('http://webprotege.stanford.edu/R7ytJx3wwwUiUmLJSIbe96A'))\n",
            "(rdflib.term.URIRef('http://webprotege.stanford.edu/R7AAcDk7WeUxIKeQ1PIKKr'), rdflib.term.URIRef('http://www.w3.org/2000/01/rdf-schema#domain'), rdflib.term.URIRef('http://webprotege.stanford.edu/RBSnAThnuCdqPuS6rKTMkxp'))\n",
            "(rdflib.term.URIRef('http://webprotege.stanford.edu/R9LCjoXsvKLuhqzvk93dsPF'), rdflib.term.URIRef('http://www.w3.org/2000/01/rdf-schema#label'), rdflib.term.Literal('Customer_Email', datatype=rdflib.term.URIRef('http://www.w3.org/2001/XMLSchema#string')))\n",
            "(rdflib.term.URIRef('http://webprotege.stanford.edu/RDHjCsHiO01GLiOLPIgFKYb'), rdflib.term.URIRef('http://www.w3.org/1999/02/22-rdf-syntax-ns#type'), rdflib.term.URIRef('http://www.w3.org/2002/07/owl#DatatypeProperty'))\n",
            "(rdflib.term.URIRef('urn:webprotege:ontology:0adba852-419a-4efa-a399-6c734704e7b4#Chicken_Rolls,Lime_Juice'), rdflib.term.URIRef('http://www.w3.org/1999/02/22-rdf-syntax-ns#type'), rdflib.term.URIRef('urn:webprotege:ontology:0adba852-419a-4efa-a399-6c734704e7b4#order'))\n",
            "(rdflib.term.URIRef('http://webprotege.stanford.edu/RC0D8tpmGHzAw2GRuI5O54L'), rdflib.term.URIRef('http://www.w3.org/2000/01/rdf-schema#subClassOf'), rdflib.term.URIRef('http://webprotege.stanford.edu/R8x5ufVivKG7njIRoqA1BHJ'))\n",
            "(rdflib.term.URIRef('http://webprotege.stanford.edu/R7tBnWkkWGK0LKps9niEyBB'), rdflib.term.URIRef('http://www.w3.org/2000/01/rdf-schema#label'), rdflib.term.Literal('Drinks_List'))\n",
            "(rdflib.term.BNode('Ndbda53aa9694472fa797724f6ab77e82'), rdflib.term.URIRef('http://www.w3.org/1999/02/22-rdf-syntax-ns#type'), rdflib.term.URIRef('http://www.w3.org/2002/07/owl#Restriction'))\n",
            "(rdflib.term.URIRef('http://webprotege.stanford.edu/R8DEzXH7pOqwB33gBYEDEDJ'), rdflib.term.URIRef('http://www.w3.org/2000/01/rdf-schema#subClassOf'), rdflib.term.BNode('N1ba31d1b1f1c49b3bbb4a4bf1d2d566a'))\n",
            "(rdflib.term.BNode('N50f9df4205b84b45a38f740cb1df3bdc'), rdflib.term.URIRef('http://www.w3.org/2002/07/owl#onProperty'), rdflib.term.URIRef('http://webprotege.stanford.edu/R8sgFHS86nROr9qyH6fsjNu'))\n",
            "(rdflib.term.URIRef('http://webprotege.stanford.edu/R7TgW7ebIZUYCjrE6XAADjl'), rdflib.term.URIRef('http://www.w3.org/2000/01/rdf-schema#domain'), rdflib.term.URIRef('http://webprotege.stanford.edu/R7x1gTVQphnPmP7A8Fpe1AX'))\n",
            "(rdflib.term.URIRef('http://webprotege.stanford.edu/RDb7amnSUHVG3PlShcsTcAn'), rdflib.term.URIRef('http://www.w3.org/1999/02/22-rdf-syntax-ns#type'), rdflib.term.URIRef('http://www.w3.org/2002/07/owl#DatatypeProperty'))\n",
            "(rdflib.term.URIRef('http://webprotege.stanford.edu/R8jARtLXEPEM00GXrJUF5Mc'), rdflib.term.URIRef('http://www.w3.org/2000/01/rdf-schema#subPropertyOf'), rdflib.term.URIRef('http://webprotege.stanford.edu/RCPwdEdalCPmPVYPzajbTz'))\n",
            "(rdflib.term.URIRef('http://webprotege.stanford.edu/RDWF0IJHEMa7qhkTpP2icxs'), rdflib.term.URIRef('http://www.w3.org/1999/02/22-rdf-syntax-ns#type'), rdflib.term.URIRef('http://www.w3.org/2002/07/owl#Class'))\n",
            "(rdflib.term.BNode('N6fc87fd2bbb04ab0ae37d65cab099409'), rdflib.term.URIRef('http://www.w3.org/1999/02/22-rdf-syntax-ns#type'), rdflib.term.URIRef('http://www.w3.org/2002/07/owl#Restriction'))\n",
            "(rdflib.term.URIRef('http://webprotege.stanford.edu/RDEcFue2m6UuIuMtuTJFZWI'), rdflib.term.URIRef('http://www.w3.org/1999/02/22-rdf-syntax-ns#type'), rdflib.term.URIRef('http://www.w3.org/2002/07/owl#DatatypeProperty'))\n",
            "(rdflib.term.BNode('N6fc87fd2bbb04ab0ae37d65cab099409'), rdflib.term.URIRef('http://www.w3.org/2002/07/owl#onProperty'), rdflib.term.URIRef('http://webprotege.stanford.edu/R7TgW7ebIZUYCjrE6XAADjl'))\n",
            "(rdflib.term.URIRef('http://webprotege.stanford.edu/RBPJJu8bG3vZ17Q5hA82MLh'), rdflib.term.URIRef('http://www.w3.org/2000/01/rdf-schema#subClassOf'), rdflib.term.BNode('N0dc53fb93b0444e790d0817fd89813d7'))\n",
            "(rdflib.term.URIRef('http://webprotege.stanford.edu/R7TgW7ebIZUYCjrE6XAADjl'), rdflib.term.URIRef('http://www.w3.org/2000/01/rdf-schema#range'), rdflib.term.URIRef('http://webprotege.stanford.edu/RBWH4XAJd1hhI2jkD6XpB29'))\n",
            "(rdflib.term.BNode('N3f7a5978d60547dfae341edc2d7369dd'), rdflib.term.URIRef('http://www.w3.org/2002/07/owl#onProperty'), rdflib.term.URIRef('http://webprotege.stanford.edu/RB4FElvrnxm8fyZSTOhzzG'))\n",
            "(rdflib.term.URIRef('http://webprotege.stanford.edu/R9LYFTRKtKWQytBOUTzI1Nj'), rdflib.term.URIRef('http://www.w3.org/1999/02/22-rdf-syntax-ns#type'), rdflib.term.URIRef('http://www.w3.org/2002/07/owl#ObjectProperty'))\n",
            "(rdflib.term.URIRef('http://webprotege.stanford.edu/R7TgW7ebIZUYCjrE6XAADjl'), rdflib.term.URIRef('http://www.w3.org/2000/01/rdf-schema#label'), rdflib.term.Literal('Manages'))\n",
            "(rdflib.term.URIRef('http://webprotege.stanford.edu/RBWH4XAJd1hhI2jkD6XpB29'), rdflib.term.URIRef('http://www.w3.org/2000/01/rdf-schema#label'), rdflib.term.Literal('DeliveryAgent', datatype=rdflib.term.URIRef('http://www.w3.org/2001/XMLSchema#string')))\n",
            "(rdflib.term.BNode('N11dfa494cfea4dbb8b174e69fda4e882'), rdflib.term.URIRef('http://www.w3.org/2002/07/owl#onProperty'), rdflib.term.URIRef('http://webprotege.stanford.edu/RBI1VdgHelj7D52ByC1c4HN'))\n",
            "(rdflib.term.URIRef('http://webprotege.stanford.edu/RCgxBQuGy9Uq4hNLV8GCPtx'), rdflib.term.URIRef('http://www.w3.org/2000/01/rdf-schema#label'), rdflib.term.Literal('RequestedBy'))\n",
            "(rdflib.term.URIRef('http://webprotege.stanford.edu/R8H3w5g9u3rddaoJUWKVeBj'), rdflib.term.URIRef('http://www.w3.org/2000/01/rdf-schema#subPropertyOf'), rdflib.term.URIRef('http://webprotege.stanford.edu/R8xGJscgCZStVuvxTHYbswK'))\n",
            "(rdflib.term.URIRef('http://webprotege.stanford.edu/RZbHPRaWRMAdcuf6Q2OgVI'), rdflib.term.URIRef('http://www.w3.org/2000/01/rdf-schema#range'), rdflib.term.URIRef('http://www.w3.org/2001/XMLSchema#string'))\n",
            "(rdflib.term.URIRef(\"urn:webprotege:ontology:0adba852-419a-4efa-a399-6c734704e7b4#['Lime_Juice',_'110']\"), rdflib.term.URIRef('http://www.w3.org/1999/02/22-rdf-syntax-ns#type'), rdflib.term.URIRef('urn:webprotege:ontology:0adba852-419a-4efa-a399-6c734704e7b4#Rmenu/Drinks/item'))\n",
            "(rdflib.term.BNode('N614bbc26433b45a281b3c91f0a2bb54e'), rdflib.term.URIRef('http://www.w3.org/1999/02/22-rdf-syntax-ns#type'), rdflib.term.URIRef('http://www.w3.org/2002/07/owl#Restriction'))\n",
            "(rdflib.term.BNode('Nb5d6aa878c364cef96543643b3a1f98e'), rdflib.term.URIRef('http://www.w3.org/1999/02/22-rdf-syntax-ns#type'), rdflib.term.URIRef('http://www.w3.org/2002/07/owl#Restriction'))\n",
            "(rdflib.term.URIRef('http://webprotege.stanford.edu/RCWuxUrDSBmQAm7eNmWrO6M'), rdflib.term.URIRef('http://www.w3.org/1999/02/22-rdf-syntax-ns#type'), rdflib.term.URIRef('http://www.w3.org/2002/07/owl#DatatypeProperty'))\n",
            "(rdflib.term.URIRef('http://webprotege.stanford.edu/R9q3YgzgZCGqWmsos9yGNi9'), rdflib.term.URIRef('http://www.w3.org/2000/01/rdf-schema#range'), rdflib.term.URIRef('http://www.w3.org/2001/XMLSchema#string'))\n",
            "(rdflib.term.URIRef('http://webprotege.stanford.edu/R9FHP0aDstZYG7tQj1L6PLN'), rdflib.term.URIRef('http://www.w3.org/1999/02/22-rdf-syntax-ns#type'), rdflib.term.URIRef('http://www.w3.org/2002/07/owl#DatatypeProperty'))\n",
            "(rdflib.term.URIRef('http://webprotege.stanford.edu/RBSnAThnuCdqPuS6rKTMkxp'), rdflib.term.URIRef('http://www.w3.org/2000/01/rdf-schema#subClassOf'), rdflib.term.URIRef('http://webprotege.stanford.edu/R8t7xwYZ66IWwGtQ4whppVw'))\n",
            "(rdflib.term.URIRef('http://webprotege.stanford.edu/RDVoPhXEHLgnJFRqGhz0g4u'), rdflib.term.URIRef('http://www.w3.org/2000/01/rdf-schema#range'), rdflib.term.URIRef('http://webprotege.stanford.edu/RBPJJu8bG3vZ17Q5hA82MLh'))\n",
            "(rdflib.term.URIRef(\"urn:webprotege:ontology:0adba852-419a-4efa-a399-6c734704e7b4#['Beer',_'150']\"), rdflib.term.URIRef('http://www.w3.org/1999/02/22-rdf-syntax-ns#type'), rdflib.term.URIRef('http://www.w3.org/2002/07/owl#NamedIndividual'))\n",
            "(rdflib.term.URIRef('http://webprotege.stanford.edu/RDVoPhXEHLgnJFRqGhz0g4u'), rdflib.term.URIRef('http://www.w3.org/1999/02/22-rdf-syntax-ns#type'), rdflib.term.URIRef('http://www.w3.org/2002/07/owl#ObjectProperty'))\n",
            "(rdflib.term.URIRef('http://webprotege.stanford.edu/RCrfjs7UgSmJonhePLXzOZM'), rdflib.term.URIRef('http://www.w3.org/1999/02/22-rdf-syntax-ns#type'), rdflib.term.URIRef('http://www.w3.org/2002/07/owl#DatatypeProperty'))\n",
            "(rdflib.term.URIRef('http://webprotege.stanford.edu/RDVoPhXEHLgnJFRqGhz0g4u'), rdflib.term.URIRef('http://www.w3.org/2000/01/rdf-schema#domain'), rdflib.term.URIRef('http://webprotege.stanford.edu/RBWH4XAJd1hhI2jkD6XpB29'))\n",
            "(rdflib.term.URIRef('urn:webprotege:ontology:0adba852-419a-4efa-a399-6c734704e7b4#6548'), rdflib.term.URIRef('http://www.w3.org/1999/02/22-rdf-syntax-ns#type'), rdflib.term.URIRef('http://www.w3.org/2002/07/owl#NamedIndividual'))\n",
            "(rdflib.term.URIRef('http://webprotege.stanford.edu/R9LYFTRKtKWQytBOUTzI1Nj'), rdflib.term.URIRef('http://www.w3.org/2000/01/rdf-schema#range'), rdflib.term.URIRef('http://webprotege.stanford.edu/R7iNKiSWVkt70AUZiRep7NZ'))\n",
            "(rdflib.term.URIRef('http://webprotege.stanford.edu/RnjoElGXqkcfbspdq6zjxg'), rdflib.term.URIRef('http://www.w3.org/2000/01/rdf-schema#range'), rdflib.term.URIRef('http://www.w3.org/2001/XMLSchema#string'))\n",
            "(rdflib.term.URIRef('http://webprotege.stanford.edu/Rnuq3FpyJU1vQy6pPhU9oG'), rdflib.term.URIRef('http://www.w3.org/1999/02/22-rdf-syntax-ns#type'), rdflib.term.URIRef('http://www.w3.org/2002/07/owl#Class'))\n",
            "(rdflib.term.URIRef('http://webprotege.stanford.edu/RCJ9tr2hWRif8sv1TRHY2Tb'), rdflib.term.URIRef('http://www.w3.org/1999/02/22-rdf-syntax-ns#type'), rdflib.term.URIRef('http://www.w3.org/2002/07/owl#DatatypeProperty'))\n",
            "(rdflib.term.URIRef('http://webprotege.stanford.edu/RHY4VM01JHBgetRcGRxGBp'), rdflib.term.URIRef('http://www.w3.org/2000/01/rdf-schema#range'), rdflib.term.URIRef('http://www.w3.org/2001/XMLSchema#string'))\n",
            "(rdflib.term.URIRef('http://webprotege.stanford.edu/RBiJjxL5TZOvMvyHTg0Uoev'), rdflib.term.URIRef('http://www.w3.org/2000/01/rdf-schema#comment'), rdflib.term.Literal('Chat_Details', datatype=rdflib.term.URIRef('http://www.w3.org/2001/XMLSchema#string')))\n",
            "(rdflib.term.URIRef('http://webprotege.stanford.edu/RBbspCC1EXO2JZpSTpuFUVK'), rdflib.term.URIRef('http://www.w3.org/2000/01/rdf-schema#label'), rdflib.term.Literal('NonVegMenu'))\n",
            "(rdflib.term.URIRef('http://webprotege.stanford.edu/RDJwqz3tVzMNl35Ytk2jRw5'), rdflib.term.URIRef('http://www.w3.org/1999/02/22-rdf-syntax-ns#type'), rdflib.term.URIRef('http://www.w3.org/2002/07/owl#ObjectProperty'))\n",
            "(rdflib.term.URIRef('http://webprotege.stanford.edu/R98QAq8ezuDv4jkLopMemw6'), rdflib.term.URIRef('http://www.w3.org/2000/01/rdf-schema#range'), rdflib.term.URIRef('http://www.w3.org/2001/XMLSchema#string'))\n",
            "(rdflib.term.BNode('N6f5f9aee6d124ae98b7452661ebf9fd8'), rdflib.term.URIRef('http://www.w3.org/2002/07/owl#onProperty'), rdflib.term.URIRef('http://webprotege.stanford.edu/R8Z4kyqmMvO0xkBgbwaUyDa'))\n",
            "(rdflib.term.URIRef('urn:webprotege:ontology:0adba852-419a-4efa-a399-6c734704e7b4#127'), rdflib.term.URIRef('http://www.w3.org/1999/02/22-rdf-syntax-ns#type'), rdflib.term.URIRef('urn:webprotege:ontology:0adba852-419a-4efa-a399-6c734704e7b4#order'))\n",
            "(rdflib.term.URIRef('http://webprotege.stanford.edu/RnjoElGXqkcfbspdq6zjxg'), rdflib.term.URIRef('http://www.w3.org/2000/01/rdf-schema#label'), rdflib.term.Literal('Restaurant_Name'))\n",
            "(rdflib.term.URIRef('http://webprotege.stanford.edu/R85sPYK3R6YLuLztyelovCj'), rdflib.term.URIRef('http://www.w3.org/2000/01/rdf-schema#range'), rdflib.term.URIRef('http://www.w3.org/2001/XMLSchema#string'))\n",
            "(rdflib.term.URIRef('http://webprotege.stanford.edu/R8loj2kfwqgkGHW7qeRYx5n'), rdflib.term.URIRef('http://www.w3.org/2000/01/rdf-schema#subPropertyOf'), rdflib.term.URIRef('http://webprotege.stanford.edu/RDb7amnSUHVG3PlShcsTcAn'))\n",
            "(rdflib.term.URIRef('http://webprotege.stanford.edu/RYsdrMeS1d2XSW33oS3Uk4'), rdflib.term.URIRef('http://www.w3.org/1999/02/22-rdf-syntax-ns#type'), rdflib.term.URIRef('http://www.w3.org/2002/07/owl#Class'))\n",
            "(rdflib.term.URIRef('http://webprotege.stanford.edu/RBWH4XAJd1hhI2jkD6XpB29'), rdflib.term.URIRef('http://www.w3.org/2000/01/rdf-schema#subClassOf'), rdflib.term.BNode('N50f9df4205b84b45a38f740cb1df3bdc'))\n",
            "(rdflib.term.URIRef('http://webprotege.stanford.edu/RDb7amnSUHVG3PlShcsTcAn'), rdflib.term.URIRef('http://www.w3.org/2000/01/rdf-schema#label'), rdflib.term.Literal('OrderId'))\n",
            "(rdflib.term.URIRef('http://webprotege.stanford.edu/R8x5ufVivKG7njIRoqA1BHJ'), rdflib.term.URIRef('http://www.w3.org/1999/02/22-rdf-syntax-ns#type'), rdflib.term.URIRef('http://www.w3.org/2002/07/owl#Class'))\n",
            "(rdflib.term.URIRef('http://webprotege.stanford.edu/RBI1VdgHelj7D52ByC1c4HN'), rdflib.term.URIRef('http://www.w3.org/2000/01/rdf-schema#domain'), rdflib.term.URIRef('http://webprotege.stanford.edu/RBPJJu8bG3vZ17Q5hA82MLh'))\n",
            "(rdflib.term.URIRef('http://webprotege.stanford.edu/R9q3YgzgZCGqWmsos9yGNi9'), rdflib.term.URIRef('http://www.w3.org/2000/01/rdf-schema#label'), rdflib.term.Literal('Restaurant_FeedBack_Detail'))\n",
            "(rdflib.term.URIRef('http://www.w3.org/2002/07/owl#Thing'), rdflib.term.URIRef('http://www.w3.org/2000/01/rdf-schema#label'), rdflib.term.Literal('ManagementSystem', datatype=rdflib.term.URIRef('http://www.w3.org/2001/XMLSchema#string')))\n",
            "(rdflib.term.URIRef('http://webprotege.stanford.edu/RBiJjxL5TZOvMvyHTg0Uoev'), rdflib.term.URIRef('http://www.w3.org/2000/01/rdf-schema#domain'), rdflib.term.URIRef('http://webprotege.stanford.edu/RLSIOBaSLwVwDNkN3Obg27'))\n",
            "(rdflib.term.URIRef(\"urn:webprotege:ontology:0adba852-419a-4efa-a399-6c734704e7b4#['Lime_Juice',_'110']\"), rdflib.term.URIRef('http://www.w3.org/1999/02/22-rdf-syntax-ns#type'), rdflib.term.URIRef('http://www.w3.org/2002/07/owl#NamedIndividual'))\n",
            "(rdflib.term.URIRef('http://webprotege.stanford.edu/R7pF0dVPd7pGsHUu2rqvdcV'), rdflib.term.URIRef('http://www.w3.org/2000/01/rdf-schema#range'), rdflib.term.URIRef('http://www.w3.org/2001/XMLSchema#string'))\n",
            "(rdflib.term.URIRef('http://webprotege.stanford.edu/R8DEzXH7pOqwB33gBYEDEDJ'), rdflib.term.URIRef('http://www.w3.org/2000/01/rdf-schema#subClassOf'), rdflib.term.BNode('N11dfa494cfea4dbb8b174e69fda4e882'))\n",
            "(rdflib.term.URIRef('http://webprotege.stanford.edu/RBXNCFeJ8XWf798gOcnkVzw'), rdflib.term.URIRef('http://www.w3.org/1999/02/22-rdf-syntax-ns#type'), rdflib.term.URIRef('http://www.w3.org/2002/07/owl#Class'))\n",
            "(rdflib.term.URIRef('http://webprotege.stanford.edu/RCzBgbHD7Vm5O3jVE4ntGLZ'), rdflib.term.URIRef('http://www.w3.org/2000/01/rdf-schema#domain'), rdflib.term.URIRef('http://webprotege.stanford.edu/RBYkQN5aZtyiCyynBAP9pyZ'))\n",
            "(rdflib.term.URIRef('http://webprotege.stanford.edu/RDVoPhXEHLgnJFRqGhz0g4u'), rdflib.term.URIRef('http://www.w3.org/2000/01/rdf-schema#domain'), rdflib.term.URIRef('http://webprotege.stanford.edu/RBPJJu8bG3vZ17Q5hA82MLh'))\n",
            "(rdflib.term.URIRef('http://webprotege.stanford.edu/RCxcwc6pNzvLCbbWld21vD'), rdflib.term.URIRef('http://www.w3.org/2000/01/rdf-schema#label'), rdflib.term.Literal('ManagerId'))\n",
            "(rdflib.term.URIRef('http://webprotege.stanford.edu/R8xGJscgCZStVuvxTHYbswK'), rdflib.term.URIRef('http://www.w3.org/2000/01/rdf-schema#domain'), rdflib.term.URIRef('http://webprotege.stanford.edu/R7iNKiSWVkt70AUZiRep7NZ'))\n",
            "(rdflib.term.URIRef('http://webprotege.stanford.edu/R7JTfuKzSs0v11t1rDC3M58'), rdflib.term.URIRef('http://www.w3.org/2000/01/rdf-schema#label'), rdflib.term.Literal('Agent_Rating'))\n",
            "(rdflib.term.URIRef('http://webprotege.stanford.edu/R7JTfuKzSs0v11t1rDC3M58'), rdflib.term.URIRef('http://www.w3.org/1999/02/22-rdf-syntax-ns#type'), rdflib.term.URIRef('http://www.w3.org/2002/07/owl#DatatypeProperty'))\n",
            "(rdflib.term.URIRef('http://webprotege.stanford.edu/R7tBnWkkWGK0LKps9niEyBB'), rdflib.term.URIRef('http://www.w3.org/1999/02/22-rdf-syntax-ns#type'), rdflib.term.URIRef('http://www.w3.org/2002/07/owl#DatatypeProperty'))\n",
            "(rdflib.term.URIRef('http://webprotege.stanford.edu/R98QAq8ezuDv4jkLopMemw6'), rdflib.term.URIRef('http://www.w3.org/2000/01/rdf-schema#subPropertyOf'), rdflib.term.URIRef('http://webprotege.stanford.edu/RCxcwc6pNzvLCbbWld21vD'))\n",
            "(rdflib.term.URIRef('http://webprotege.stanford.edu/RBLCZ1qATHZq7GoWq7iXTzD'), rdflib.term.URIRef('http://www.w3.org/1999/02/22-rdf-syntax-ns#type'), rdflib.term.URIRef('http://www.w3.org/2002/07/owl#Class'))\n",
            "(rdflib.term.URIRef('urn:webprotege:ontology:0adba852-419a-4efa-a399-6c734704e7b4#Mayank_Jain'), rdflib.term.URIRef('http://www.w3.org/1999/02/22-rdf-syntax-ns#type'), rdflib.term.URIRef('http://www.w3.org/2002/07/owl#NamedIndividual'))\n",
            "(rdflib.term.URIRef('urn:webprotege:ontology:0adba852-419a-4efa-a399-6c734704e7b4#560212'), rdflib.term.URIRef('http://www.w3.org/1999/02/22-rdf-syntax-ns#type'), rdflib.term.URIRef('http://www.w3.org/2002/07/owl#NamedIndividual'))\n",
            "(rdflib.term.URIRef('http://webprotege.stanford.edu/RCgxBQuGy9Uq4hNLV8GCPtx'), rdflib.term.URIRef('http://www.w3.org/2000/01/rdf-schema#range'), rdflib.term.URIRef('http://webprotege.stanford.edu/R8DEzXH7pOqwB33gBYEDEDJ'))\n",
            "(rdflib.term.URIRef('http://webprotege.stanford.edu/RCWuxUrDSBmQAm7eNmWrO6M'), rdflib.term.URIRef('http://www.w3.org/2000/01/rdf-schema#range'), rdflib.term.URIRef('http://www.w3.org/2001/XMLSchema#string'))\n",
            "(rdflib.term.URIRef('http://webprotege.stanford.edu/RCJ9tr2hWRif8sv1TRHY2Tb'), rdflib.term.URIRef('http://www.w3.org/2000/01/rdf-schema#subPropertyOf'), rdflib.term.URIRef('http://webprotege.stanford.edu/R8xGJscgCZStVuvxTHYbswK'))\n",
            "(rdflib.term.URIRef('http://webprotege.stanford.edu/R7iNKiSWVkt70AUZiRep7NZ'), rdflib.term.URIRef('http://www.w3.org/1999/02/22-rdf-syntax-ns#type'), rdflib.term.URIRef('http://www.w3.org/2002/07/owl#Class'))\n",
            "(rdflib.term.URIRef('urn:webprotege:ontology:0adba852-419a-4efa-a399-6c734704e7b4#9256878932'), rdflib.term.URIRef('http://www.w3.org/1999/02/22-rdf-syntax-ns#type'), rdflib.term.URIRef('http://www.w3.org/2002/07/owl#NamedIndividual'))\n",
            "(rdflib.term.BNode('Nb0b145a050a0465495e716a138d76a71'), rdflib.term.URIRef('http://www.w3.org/2002/07/owl#someValuesFrom'), rdflib.term.URIRef('http://webprotege.stanford.edu/R8DEzXH7pOqwB33gBYEDEDJ'))\n",
            "(rdflib.term.URIRef('http://webprotege.stanford.edu/R8x5ufVivKG7njIRoqA1BHJ'), rdflib.term.URIRef('http://www.w3.org/2000/01/rdf-schema#label'), rdflib.term.Literal('Food'))\n",
            "(rdflib.term.URIRef('http://webprotege.stanford.edu/RLSIOBaSLwVwDNkN3Obg27'), rdflib.term.URIRef('http://www.w3.org/2000/01/rdf-schema#subClassOf'), rdflib.term.URIRef('http://webprotege.stanford.edu/RBLCZ1qATHZq7GoWq7iXTzD'))\n",
            "(rdflib.term.URIRef('http://webprotege.stanford.edu/RC0D8tpmGHzAw2GRuI5O54L'), rdflib.term.URIRef('http://www.w3.org/1999/02/22-rdf-syntax-ns#type'), rdflib.term.URIRef('http://www.w3.org/2002/07/owl#Class'))\n",
            "(rdflib.term.URIRef('http://webprotege.stanford.edu/R7AAcDk7WeUxIKeQ1PIKKr'), rdflib.term.URIRef('http://www.w3.org/2000/01/rdf-schema#domain'), rdflib.term.URIRef('http://webprotege.stanford.edu/RBPJJu8bG3vZ17Q5hA82MLh'))\n",
            "(rdflib.term.URIRef('http://webprotege.stanford.edu/R8sgFHS86nROr9qyH6fsjNu'), rdflib.term.URIRef('http://www.w3.org/2000/01/rdf-schema#domain'), rdflib.term.URIRef('http://webprotege.stanford.edu/RBWH4XAJd1hhI2jkD6XpB29'))\n",
            "(rdflib.term.URIRef('http://webprotege.stanford.edu/R98QAq8ezuDv4jkLopMemw6'), rdflib.term.URIRef('http://www.w3.org/2000/01/rdf-schema#label'), rdflib.term.Literal('ManagerName'))\n",
            "(rdflib.term.URIRef('http://webprotege.stanford.edu/RBPJJu8bG3vZ17Q5hA82MLh'), rdflib.term.URIRef('http://www.w3.org/2000/01/rdf-schema#subClassOf'), rdflib.term.BNode('N8e5484aadeaf4ab3a98d43e74a9ff712'))\n",
            "(rdflib.term.URIRef('http://webprotege.stanford.edu/RBWH4XAJd1hhI2jkD6XpB29'), rdflib.term.URIRef('http://www.w3.org/1999/02/22-rdf-syntax-ns#type'), rdflib.term.URIRef('http://www.w3.org/2002/07/owl#Class'))\n",
            "(rdflib.term.URIRef('http://webprotege.stanford.edu/RBSnAThnuCdqPuS6rKTMkxp'), rdflib.term.URIRef('http://www.w3.org/2000/01/rdf-schema#label'), rdflib.term.Literal('CustomerFeeds', datatype=rdflib.term.URIRef('http://www.w3.org/2001/XMLSchema#string')))\n",
            "(rdflib.term.URIRef('http://webprotege.stanford.edu/R4RPloVPzTpqU8kcAl3Dkr'), rdflib.term.URIRef('http://www.w3.org/1999/02/22-rdf-syntax-ns#type'), rdflib.term.URIRef('http://www.w3.org/2002/07/owl#DatatypeProperty'))\n",
            "(rdflib.term.URIRef('urn:webprotege:ontology:0adba852-419a-4efa-a399-6c734704e7b4#56895'), rdflib.term.URIRef('http://www.w3.org/1999/02/22-rdf-syntax-ns#type'), rdflib.term.URIRef('http://www.w3.org/2002/07/owl#NamedIndividual'))\n",
            "(rdflib.term.BNode('N6fc87fd2bbb04ab0ae37d65cab099409'), rdflib.term.URIRef('http://www.w3.org/2002/07/owl#someValuesFrom'), rdflib.term.URIRef('http://webprotege.stanford.edu/RBWH4XAJd1hhI2jkD6XpB29'))\n",
            "(rdflib.term.URIRef('http://webprotege.stanford.edu/RBWH4XAJd1hhI2jkD6XpB29'), rdflib.term.URIRef('http://www.w3.org/2000/01/rdf-schema#subClassOf'), rdflib.term.BNode('N6f5f9aee6d124ae98b7452661ebf9fd8'))\n",
            "(rdflib.term.URIRef('http://webprotege.stanford.edu/R8H3w5g9u3rddaoJUWKVeBj'), rdflib.term.URIRef('http://www.w3.org/1999/02/22-rdf-syntax-ns#type'), rdflib.term.URIRef('http://www.w3.org/2002/07/owl#DatatypeProperty'))\n",
            "(rdflib.term.URIRef('http://webprotege.stanford.edu/RDHjCsHiO01GLiOLPIgFKYb'), rdflib.term.URIRef('http://www.w3.org/2000/01/rdf-schema#range'), rdflib.term.URIRef('http://www.w3.org/2001/XMLSchema#string'))\n",
            "(rdflib.term.BNode('N1ba31d1b1f1c49b3bbb4a4bf1d2d566a'), rdflib.term.URIRef('http://www.w3.org/2002/07/owl#onProperty'), rdflib.term.URIRef('http://webprotege.stanford.edu/R7TgW7ebIZUYCjrE6XAADjl'))\n",
            "(rdflib.term.URIRef('http://webprotege.stanford.edu/R9LCjoXsvKLuhqzvk93dsPF'), rdflib.term.URIRef('http://www.w3.org/1999/02/22-rdf-syntax-ns#type'), rdflib.term.URIRef('http://www.w3.org/2002/07/owl#DatatypeProperty'))\n",
            "(rdflib.term.URIRef('http://webprotege.stanford.edu/RBWH4XAJd1hhI2jkD6XpB29'), rdflib.term.URIRef('http://www.w3.org/2000/01/rdf-schema#subClassOf'), rdflib.term.URIRef('http://webprotege.stanford.edu/RBXNCFeJ8XWf798gOcnkVzw'))\n",
            "(rdflib.term.URIRef('http://webprotege.stanford.edu/Rnuq3FpyJU1vQy6pPhU9oG'), rdflib.term.URIRef('http://www.w3.org/2000/01/rdf-schema#label'), rdflib.term.Literal('Drinks'))\n",
            "(rdflib.term.URIRef('http://webprotege.stanford.edu/R8t7xwYZ66IWwGtQ4whppVw'), rdflib.term.URIRef('http://www.w3.org/2000/01/rdf-schema#subClassOf'), rdflib.term.URIRef('http://webprotege.stanford.edu/R8DEzXH7pOqwB33gBYEDEDJ'))\n",
            "(rdflib.term.URIRef('http://webprotege.stanford.edu/RB4FElvrnxm8fyZSTOhzzG'), rdflib.term.URIRef('http://www.w3.org/1999/02/22-rdf-syntax-ns#type'), rdflib.term.URIRef('http://www.w3.org/2002/07/owl#ObjectProperty'))\n",
            "(rdflib.term.URIRef('http://webprotege.stanford.edu/R8xGJscgCZStVuvxTHYbswK'), rdflib.term.URIRef('http://www.w3.org/2000/01/rdf-schema#range'), rdflib.term.URIRef('http://www.w3.org/2001/XMLSchema#string'))\n",
            "(rdflib.term.URIRef('http://webprotege.stanford.edu/RCzBgbHD7Vm5O3jVE4ntGLZ'), rdflib.term.URIRef('http://www.w3.org/2000/01/rdf-schema#label'), rdflib.term.Literal('Call_Support'))\n",
            "(rdflib.term.URIRef('http://webprotege.stanford.edu/R97LOWR9JP6eA0Hn04xQBmo'), rdflib.term.URIRef('http://www.w3.org/2000/01/rdf-schema#range'), rdflib.term.URIRef('http://www.w3.org/2001/XMLSchema#string'))\n",
            "(rdflib.term.URIRef('http://webprotege.stanford.edu/R7x1gTVQphnPmP7A8Fpe1AX'), rdflib.term.URIRef('http://www.w3.org/1999/02/22-rdf-syntax-ns#type'), rdflib.term.URIRef('http://www.w3.org/2002/07/owl#Class'))\n",
            "(rdflib.term.URIRef('http://webprotege.stanford.edu/R9YJMmAVuPxPgcaGt2yfHS2'), rdflib.term.URIRef('http://www.w3.org/2000/01/rdf-schema#subPropertyOf'), rdflib.term.URIRef('http://webprotege.stanford.edu/RDb7amnSUHVG3PlShcsTcAn'))\n",
            "(rdflib.term.URIRef('http://webprotege.stanford.edu/RipSkDwyh1dVcjXqx8HTwp'), rdflib.term.URIRef('http://www.w3.org/2000/01/rdf-schema#label'), rdflib.term.Literal('CardDetail'))\n",
            "(rdflib.term.URIRef('http://webprotege.stanford.edu/RCrfjs7UgSmJonhePLXzOZM'), rdflib.term.URIRef('http://www.w3.org/2000/01/rdf-schema#label'), rdflib.term.Literal('Customer_Address'))\n",
            "(rdflib.term.URIRef('http://webprotege.stanford.edu/R4RPloVPzTpqU8kcAl3Dkr'), rdflib.term.URIRef('http://www.w3.org/2000/01/rdf-schema#subPropertyOf'), rdflib.term.URIRef('http://webprotege.stanford.edu/RCPwdEdalCPmPVYPzajbTz'))\n",
            "(rdflib.term.URIRef('http://webprotege.stanford.edu/RCxcwc6pNzvLCbbWld21vD'), rdflib.term.URIRef('http://www.w3.org/1999/02/22-rdf-syntax-ns#type'), rdflib.term.URIRef('http://www.w3.org/2002/07/owl#DatatypeProperty'))\n",
            "(rdflib.term.URIRef('http://webprotege.stanford.edu/RBIF6veGOHOTBmEO0B2wvy7'), rdflib.term.URIRef('http://www.w3.org/2000/01/rdf-schema#label'), rdflib.term.Literal('RestaurantFeeds'))\n",
            "(rdflib.term.URIRef('http://webprotege.stanford.edu/RHY4VM01JHBgetRcGRxGBp'), rdflib.term.URIRef('http://www.w3.org/2000/01/rdf-schema#comment'), rdflib.term.Literal('Delivery Agent Mobile No', datatype=rdflib.term.URIRef('http://www.w3.org/2001/XMLSchema#string')))\n",
            "(rdflib.term.URIRef('http://webprotege.stanford.edu/R8Z4kyqmMvO0xkBgbwaUyDa'), rdflib.term.URIRef('http://www.w3.org/1999/02/22-rdf-syntax-ns#type'), rdflib.term.URIRef('http://www.w3.org/2002/07/owl#ObjectProperty'))\n",
            "(rdflib.term.BNode('N8e5484aadeaf4ab3a98d43e74a9ff712'), rdflib.term.URIRef('http://www.w3.org/2002/07/owl#onProperty'), rdflib.term.URIRef('http://webprotege.stanford.edu/RCB2KdWsdAQ7QsvIwQrALUZ'))\n",
            "(rdflib.term.URIRef('http://webprotege.stanford.edu/RmVaYeNa44s6i7uXCAVhX9'), rdflib.term.URIRef('http://www.w3.org/2000/01/rdf-schema#label'), rdflib.term.Literal('UPI_Detail'))\n",
            "(rdflib.term.URIRef('http://webprotege.stanford.edu/R9FHP0aDstZYG7tQj1L6PLN'), rdflib.term.URIRef('http://www.w3.org/2000/01/rdf-schema#domain'), rdflib.term.URIRef('http://webprotege.stanford.edu/RBbspCC1EXO2JZpSTpuFUVK'))\n",
            "(rdflib.term.URIRef('http://webprotege.stanford.edu/RYsdrMeS1d2XSW33oS3Uk4'), rdflib.term.URIRef('http://www.w3.org/2000/01/rdf-schema#subClassOf'), rdflib.term.URIRef('http://webprotege.stanford.edu/R7iNKiSWVkt70AUZiRep7NZ'))\n",
            "(rdflib.term.BNode('N04db774a79d8436792f7a06f1985fbf6'), rdflib.term.URIRef('http://www.w3.org/2002/07/owl#onProperty'), rdflib.term.URIRef('http://webprotege.stanford.edu/RCgxBQuGy9Uq4hNLV8GCPtx'))\n",
            "(rdflib.term.URIRef('http://webprotege.stanford.edu/RCB2KdWsdAQ7QsvIwQrALUZ'), rdflib.term.URIRef('http://www.w3.org/2000/01/rdf-schema#label'), rdflib.term.Literal('TippedTo'))\n",
            "(rdflib.term.URIRef('http://webprotege.stanford.edu/R8loj2kfwqgkGHW7qeRYx5n'), rdflib.term.URIRef('http://www.w3.org/2000/01/rdf-schema#label'), rdflib.term.Literal('Amount'))\n",
            "(rdflib.term.URIRef('http://webprotege.stanford.edu/RCxcwc6pNzvLCbbWld21vD'), rdflib.term.URIRef('http://www.w3.org/2000/01/rdf-schema#range'), rdflib.term.URIRef('http://www.w3.org/2001/XMLSchema#string'))\n",
            "(rdflib.term.URIRef('http://webprotege.stanford.edu/RmVaYeNa44s6i7uXCAVhX9'), rdflib.term.URIRef('http://www.w3.org/2000/01/rdf-schema#comment'), rdflib.term.Literal('UPI Details', datatype=rdflib.term.URIRef('http://www.w3.org/2001/XMLSchema#string')))\n",
            "(rdflib.term.URIRef('http://webprotege.stanford.edu/RmVaYeNa44s6i7uXCAVhX9'), rdflib.term.URIRef('http://www.w3.org/2000/01/rdf-schema#subPropertyOf'), rdflib.term.URIRef('http://webprotege.stanford.edu/RDb7amnSUHVG3PlShcsTcAn'))\n",
            "(rdflib.term.URIRef('http://webprotege.stanford.edu/RCUteHB5v3toxEO0btAOLDF'), rdflib.term.URIRef('http://www.w3.org/2000/01/rdf-schema#label'), rdflib.term.Literal('KeepTrackOf'))\n",
            "(rdflib.term.BNode('N1a71bab8402841a799ca65efcd21f1a7'), rdflib.term.URIRef('http://www.w3.org/2002/07/owl#onProperty'), rdflib.term.URIRef('http://webprotege.stanford.edu/RDVoPhXEHLgnJFRqGhz0g4u'))\n",
            "(rdflib.term.URIRef('http://webprotege.stanford.edu/RBYkQN5aZtyiCyynBAP9pyZ'), rdflib.term.URIRef('http://www.w3.org/1999/02/22-rdf-syntax-ns#type'), rdflib.term.URIRef('http://www.w3.org/2002/07/owl#Class'))\n",
            "(rdflib.term.URIRef('http://webprotege.stanford.edu/RC0D8tpmGHzAw2GRuI5O54L'), rdflib.term.URIRef('http://www.w3.org/2000/01/rdf-schema#label'), rdflib.term.Literal('VegMenu'))\n",
            "(rdflib.term.BNode('N2871bfd59be044b8b780b3d5d787c84d'), rdflib.term.URIRef('http://www.w3.org/2002/07/owl#onProperty'), rdflib.term.URIRef('http://webprotege.stanford.edu/RDN7QmWfOChJg7poCuQnDDd'))\n",
            "(rdflib.term.URIRef('http://webprotege.stanford.edu/R7iNKiSWVkt70AUZiRep7NZ'), rdflib.term.URIRef('http://www.w3.org/2000/01/rdf-schema#subClassOf'), rdflib.term.BNode('N17755c56163e4dc39b18d522bcf54583'))\n",
            "(rdflib.term.URIRef('urn:webprotege:ontology:0adba852-419a-4efa-a399-6c734704e7b4#410'), rdflib.term.URIRef('http://www.w3.org/1999/02/22-rdf-syntax-ns#type'), rdflib.term.URIRef('urn:webprotege:ontology:0adba852-419a-4efa-a399-6c734704e7b4#Payment'))\n",
            "(rdflib.term.URIRef('http://webprotege.stanford.edu/R9Yoa9oqAkV1EedevctkoAG'), rdflib.term.URIRef('http://www.w3.org/2000/01/rdf-schema#comment'), rdflib.term.Literal('Delivery Agent Feedback Detail', datatype=rdflib.term.URIRef('http://www.w3.org/2001/XMLSchema#string')))\n",
            "(rdflib.term.URIRef('http://webprotege.stanford.edu/R9q3YgzgZCGqWmsos9yGNi9'), rdflib.term.URIRef('http://www.w3.org/2000/01/rdf-schema#subPropertyOf'), rdflib.term.URIRef('http://webprotege.stanford.edu/RBIF6veGOHOTBmEO0B2wvy7'))\n",
            "(rdflib.term.URIRef('http://webprotege.stanford.edu/RCwfhCqKf1QhFsZHpu3tBuy'), rdflib.term.URIRef('http://www.w3.org/2000/01/rdf-schema#domain'), rdflib.term.URIRef('http://webprotege.stanford.edu/RBLCZ1qATHZq7GoWq7iXTzD'))\n",
            "(rdflib.term.URIRef('urn:webprotege:ontology:0adba852-419a-4efa-a399-6c734704e7b4#Bangalore'), rdflib.term.URIRef('http://www.w3.org/1999/02/22-rdf-syntax-ns#type'), rdflib.term.URIRef('urn:webprotege:ontology:0adba852-419a-4efa-a399-6c734704e7b4#Customer'))\n",
            "(rdflib.term.URIRef('http://webprotege.stanford.edu/R4RPloVPzTpqU8kcAl3Dkr'), rdflib.term.URIRef('http://www.w3.org/2000/01/rdf-schema#domain'), rdflib.term.URIRef('http://webprotege.stanford.edu/RBC6FgHzL4npHR0jd0BLdj7'))\n",
            "(rdflib.term.URIRef('http://webprotege.stanford.edu/RHY4VM01JHBgetRcGRxGBp'), rdflib.term.URIRef('http://www.w3.org/2000/01/rdf-schema#label'), rdflib.term.Literal('DeliveryAgent_PhoneNo.'))\n",
            "(rdflib.term.URIRef('http://webprotege.stanford.edu/RB3bPSz23JGTUBlvFUMlumm'), rdflib.term.URIRef('http://www.w3.org/2000/01/rdf-schema#label'), rdflib.term.Literal('Eats'))\n",
            "(rdflib.term.URIRef('http://webprotege.stanford.edu/RBPJJu8bG3vZ17Q5hA82MLh'), rdflib.term.URIRef('http://www.w3.org/2000/01/rdf-schema#subClassOf'), rdflib.term.BNode('Nb0b145a050a0465495e716a138d76a71'))\n",
            "(rdflib.term.URIRef('http://webprotege.stanford.edu/RCJ9tr2hWRif8sv1TRHY2Tb'), rdflib.term.URIRef('http://www.w3.org/2000/01/rdf-schema#range'), rdflib.term.URIRef('http://www.w3.org/2001/XMLSchema#string'))\n",
            "(rdflib.term.URIRef('http://webprotege.stanford.edu/RDHjCsHiO01GLiOLPIgFKYb'), rdflib.term.URIRef('http://www.w3.org/2000/01/rdf-schema#label'), rdflib.term.Literal('Customer_PhoneNo.'))\n",
            "(rdflib.term.URIRef('http://webprotege.stanford.edu/RB4FElvrnxm8fyZSTOhzzG'), rdflib.term.URIRef('http://www.w3.org/2000/01/rdf-schema#domain'), rdflib.term.URIRef('http://webprotege.stanford.edu/R7iNKiSWVkt70AUZiRep7NZ'))\n",
            "(rdflib.term.URIRef('http://webprotege.stanford.edu/RB3bPSz23JGTUBlvFUMlumm'), rdflib.term.URIRef('http://www.w3.org/1999/02/22-rdf-syntax-ns#type'), rdflib.term.URIRef('http://www.w3.org/2002/07/owl#ObjectProperty'))\n",
            "(rdflib.term.URIRef('http://webprotege.stanford.edu/R7TgW7ebIZUYCjrE6XAADjl'), rdflib.term.URIRef('http://www.w3.org/1999/02/22-rdf-syntax-ns#type'), rdflib.term.URIRef('http://www.w3.org/2002/07/owl#ObjectProperty'))\n",
            "(rdflib.term.URIRef('http://webprotege.stanford.edu/R8EJnTHAxqTvM0df0F3lrEC'), rdflib.term.URIRef('http://www.w3.org/2000/01/rdf-schema#domain'), rdflib.term.URIRef('http://webprotege.stanford.edu/RBSnAThnuCdqPuS6rKTMkxp'))\n",
            "(rdflib.term.URIRef('http://webprotege.stanford.edu/R7pF0dVPd7pGsHUu2rqvdcV'), rdflib.term.URIRef('http://www.w3.org/1999/02/22-rdf-syntax-ns#type'), rdflib.term.URIRef('http://www.w3.org/2002/07/owl#DatatypeProperty'))\n",
            "(rdflib.term.URIRef('http://webprotege.stanford.edu/RCJ9tr2hWRif8sv1TRHY2Tb'), rdflib.term.URIRef('http://www.w3.org/2000/01/rdf-schema#label'), rdflib.term.Literal('Restaurant_Address'))\n",
            "(rdflib.term.URIRef('http://webprotege.stanford.edu/R87pNLROGFWrF5olpADehgz'), rdflib.term.URIRef('http://www.w3.org/1999/02/22-rdf-syntax-ns#type'), rdflib.term.URIRef('http://www.w3.org/2002/07/owl#DatatypeProperty'))\n",
            "(rdflib.term.URIRef('http://webprotege.stanford.edu/RBIiwUHb4W5kwIxFVfbFmyE'), rdflib.term.URIRef('http://www.w3.org/2000/01/rdf-schema#range'), rdflib.term.URIRef('http://www.w3.org/2001/XMLSchema#string'))\n",
            "(rdflib.term.URIRef('http://webprotege.stanford.edu/REhwsPiNE41LHzXChT0OQS'), rdflib.term.URIRef('http://www.w3.org/2000/01/rdf-schema#domain'), rdflib.term.URIRef('http://webprotege.stanford.edu/RCXabHoTWnVUCzHwQZ8zkZh'))\n",
            "(rdflib.term.URIRef('http://webprotege.stanford.edu/RBC6FgHzL4npHR0jd0BLdj7'), rdflib.term.URIRef('http://www.w3.org/1999/02/22-rdf-syntax-ns#type'), rdflib.term.URIRef('http://www.w3.org/2002/07/owl#Class'))\n",
            "(rdflib.term.URIRef('http://webprotege.stanford.edu/R8xGJscgCZStVuvxTHYbswK'), rdflib.term.URIRef('http://www.w3.org/2000/01/rdf-schema#domain'), rdflib.term.URIRef('http://webprotege.stanford.edu/RYsdrMeS1d2XSW33oS3Uk4'))\n",
            "(rdflib.term.URIRef('http://webprotege.stanford.edu/RBIiwUHb4W5kwIxFVfbFmyE'), rdflib.term.URIRef('http://www.w3.org/1999/02/22-rdf-syntax-ns#type'), rdflib.term.URIRef('http://www.w3.org/2002/07/owl#DatatypeProperty'))\n",
            "(rdflib.term.URIRef('http://webprotege.stanford.edu/R7x1gTVQphnPmP7A8Fpe1AX'), rdflib.term.URIRef('http://www.w3.org/2000/01/rdf-schema#label'), rdflib.term.Literal('Manager'))\n",
            "(rdflib.term.URIRef('http://webprotege.stanford.edu/RRHO82jDSvMExgK5IxjTRI'), rdflib.term.URIRef('http://www.w3.org/2000/01/rdf-schema#label'), rdflib.term.Literal('Handels'))\n",
            "(rdflib.term.URIRef('http://webprotege.stanford.edu/RDN7QmWfOChJg7poCuQnDDd'), rdflib.term.URIRef('http://www.w3.org/2000/01/rdf-schema#label'), rdflib.term.Literal('Serves'))\n",
            "(rdflib.term.URIRef('http://webprotege.stanford.edu/R8tV1XfEH6y8CKUsXL9tW2x'), rdflib.term.URIRef('http://www.w3.org/2000/01/rdf-schema#subPropertyOf'), rdflib.term.URIRef('http://webprotege.stanford.edu/R7AAcDk7WeUxIKeQ1PIKKr'))\n",
            "(rdflib.term.URIRef('http://webprotege.stanford.edu/RCXabHoTWnVUCzHwQZ8zkZh'), rdflib.term.URIRef('http://www.w3.org/1999/02/22-rdf-syntax-ns#type'), rdflib.term.URIRef('http://www.w3.org/2002/07/owl#Class'))\n",
            "(rdflib.term.URIRef('http://webprotege.stanford.edu/RCB2KdWsdAQ7QsvIwQrALUZ'), rdflib.term.URIRef('http://www.w3.org/2000/01/rdf-schema#domain'), rdflib.term.URIRef('http://webprotege.stanford.edu/RBPJJu8bG3vZ17Q5hA82MLh'))\n",
            "(rdflib.term.URIRef('http://webprotege.stanford.edu/RBPJJu8bG3vZ17Q5hA82MLh'), rdflib.term.URIRef('http://www.w3.org/2000/01/rdf-schema#subClassOf'), rdflib.term.BNode('N04db774a79d8436792f7a06f1985fbf6'))\n",
            "(rdflib.term.URIRef('http://webprotege.stanford.edu/RCxcwc6pNzvLCbbWld21vD'), rdflib.term.URIRef('http://www.w3.org/2000/01/rdf-schema#subPropertyOf'), rdflib.term.URIRef('http://www.w3.org/2002/07/owl#topDataProperty'))\n",
            "(rdflib.term.BNode('Nd13da6bdbc504e5284b8e3bffbd6e0c7'), rdflib.term.URIRef('http://www.w3.org/1999/02/22-rdf-syntax-ns#type'), rdflib.term.URIRef('http://www.w3.org/2002/07/owl#Restriction'))\n",
            "(rdflib.term.BNode('N2871bfd59be044b8b780b3d5d787c84d'), rdflib.term.URIRef('http://www.w3.org/2002/07/owl#someValuesFrom'), rdflib.term.URIRef('http://webprotege.stanford.edu/Rnuq3FpyJU1vQy6pPhU9oG'))\n",
            "(rdflib.term.URIRef('http://webprotege.stanford.edu/RCwfhCqKf1QhFsZHpu3tBuy'), rdflib.term.URIRef('http://www.w3.org/2000/01/rdf-schema#label'), rdflib.term.Literal('Support_ID'))\n",
            "(rdflib.term.URIRef('http://webprotege.stanford.edu/R7JTfuKzSs0v11t1rDC3M58'), rdflib.term.URIRef('http://www.w3.org/2000/01/rdf-schema#comment'), rdflib.term.Literal('Agent Rating by Customer', datatype=rdflib.term.URIRef('http://www.w3.org/2001/XMLSchema#string')))\n",
            "(rdflib.term.URIRef('http://webprotege.stanford.edu/R7b5ubchM3AotZLmbRNl2PK'), rdflib.term.URIRef('http://www.w3.org/2000/01/rdf-schema#range'), rdflib.term.URIRef('http://www.w3.org/2001/XMLSchema#string'))\n",
            "(rdflib.term.BNode('Nb0b145a050a0465495e716a138d76a71'), rdflib.term.URIRef('http://www.w3.org/2002/07/owl#onProperty'), rdflib.term.URIRef('http://webprotege.stanford.edu/RBI1VdgHelj7D52ByC1c4HN'))\n",
            "(rdflib.term.URIRef('http://webprotege.stanford.edu/RDHjCsHiO01GLiOLPIgFKYb'), rdflib.term.URIRef('http://www.w3.org/2000/01/rdf-schema#subPropertyOf'), rdflib.term.URIRef('http://webprotege.stanford.edu/R85489vmFRnnjqaF2rHbfsM'))\n",
            "(rdflib.term.BNode('N614bbc26433b45a281b3c91f0a2bb54e'), rdflib.term.URIRef('http://www.w3.org/2002/07/owl#onProperty'), rdflib.term.URIRef('http://webprotege.stanford.edu/RRHO82jDSvMExgK5IxjTRI'))\n",
            "(rdflib.term.URIRef('urn:webprotege:ontology:0adba852-419a-4efa-a399-6c734704e7b4#127'), rdflib.term.URIRef('http://www.w3.org/1999/02/22-rdf-syntax-ns#type'), rdflib.term.URIRef('http://www.w3.org/2002/07/owl#NamedIndividual'))\n",
            "(rdflib.term.URIRef('http://webprotege.stanford.edu/R8x5ufVivKG7njIRoqA1BHJ'), rdflib.term.URIRef('http://www.w3.org/2000/01/rdf-schema#subClassOf'), rdflib.term.URIRef('http://webprotege.stanford.edu/RYsdrMeS1d2XSW33oS3Uk4'))\n",
            "(rdflib.term.URIRef('http://webprotege.stanford.edu/R9FHP0aDstZYG7tQj1L6PLN'), rdflib.term.URIRef('http://www.w3.org/2000/01/rdf-schema#subPropertyOf'), rdflib.term.URIRef('http://webprotege.stanford.edu/R8xGJscgCZStVuvxTHYbswK'))\n",
            "(rdflib.term.URIRef('http://webprotege.stanford.edu/RBPJJu8bG3vZ17Q5hA82MLh'), rdflib.term.URIRef('http://www.w3.org/2000/01/rdf-schema#subClassOf'), rdflib.term.BNode('N63333de5e0634408bda3c51fe5f7098a'))\n",
            "(rdflib.term.URIRef('http://webprotege.stanford.edu/RDJwqz3tVzMNl35Ytk2jRw5'), rdflib.term.URIRef('http://www.w3.org/2000/01/rdf-schema#range'), rdflib.term.URIRef('http://webprotege.stanford.edu/R8DEzXH7pOqwB33gBYEDEDJ'))\n",
            "(rdflib.term.BNode('N406bb6b482994321a9e765ccadc40503'), rdflib.term.URIRef('http://www.w3.org/2002/07/owl#someValuesFrom'), rdflib.term.URIRef('http://webprotege.stanford.edu/R8t7xwYZ66IWwGtQ4whppVw'))\n",
            "(rdflib.term.URIRef('urn:webprotege:ontology:0adba852-419a-4efa-a399-6c734704e7b4#410'), rdflib.term.URIRef('http://www.w3.org/1999/02/22-rdf-syntax-ns#type'), rdflib.term.URIRef('http://www.w3.org/2002/07/owl#NamedIndividual'))\n",
            "(rdflib.term.URIRef('http://webprotege.stanford.edu/RLSIOBaSLwVwDNkN3Obg27'), rdflib.term.URIRef('http://www.w3.org/2000/01/rdf-schema#label'), rdflib.term.Literal('ChatSupport'))\n",
            "(rdflib.term.URIRef('http://webprotege.stanford.edu/R8xGJscgCZStVuvxTHYbswK'), rdflib.term.URIRef('http://www.w3.org/2000/01/rdf-schema#label'), rdflib.term.Literal('RestaurantId'))\n",
            "(rdflib.term.URIRef('http://webprotege.stanford.edu/RCXabHoTWnVUCzHwQZ8zkZh'), rdflib.term.URIRef('http://www.w3.org/2000/01/rdf-schema#label'), rdflib.term.Literal('DeliveryServiceProvider'))\n",
            "(rdflib.term.URIRef('http://webprotege.stanford.edu/R7b5ubchM3AotZLmbRNl2PK'), rdflib.term.URIRef('http://www.w3.org/2000/01/rdf-schema#subPropertyOf'), rdflib.term.URIRef('http://webprotege.stanford.edu/R8EJnTHAxqTvM0df0F3lrEC'))\n",
            "(rdflib.term.URIRef('http://webprotege.stanford.edu/RDEcFue2m6UuIuMtuTJFZWI'), rdflib.term.URIRef('http://www.w3.org/2000/01/rdf-schema#label'), rdflib.term.Literal('Restaurant_Rating'))\n",
            "(rdflib.term.URIRef('http://webprotege.stanford.edu/RDe4s6AGSFCVZNYcBp3qL4P'), rdflib.term.URIRef('http://www.w3.org/2000/01/rdf-schema#label'), rdflib.term.Literal('ModeOfTransport'))\n",
            "(rdflib.term.URIRef('urn:webprotege:ontology:0adba852-419a-4efa-a399-6c734704e7b4#789'), rdflib.term.URIRef('http://www.w3.org/1999/02/22-rdf-syntax-ns#type'), rdflib.term.URIRef('urn:webprotege:ontology:0adba852-419a-4efa-a399-6c734704e7b4#Rmenu/Drinks/item'))\n",
            "(rdflib.term.URIRef('http://webprotege.stanford.edu/R7AAcDk7WeUxIKeQ1PIKKr'), rdflib.term.URIRef('http://www.w3.org/1999/02/22-rdf-syntax-ns#type'), rdflib.term.URIRef('http://www.w3.org/2002/07/owl#DatatypeProperty'))\n"
          ]
        }
      ]
    }
  ]
}